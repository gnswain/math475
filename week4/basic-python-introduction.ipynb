{
 "cells": [
  {
   "cell_type": "markdown",
   "id": "d5e45265-148d-4578-ae5e-86c892b0128a",
   "metadata": {},
   "source": [
    "# Basic Python Tutorial and Practice, part 1"
   ]
  },
  {
   "cell_type": "markdown",
   "id": "694b7dbc-c3e7-4454-9eee-3ec30140f7d3",
   "metadata": {},
   "source": [
    "## Introduction"
   ]
  },
  {
   "cell_type": "markdown",
   "id": "4a10ea15-085a-4e09-aeca-ed9bf1c29916",
   "metadata": {},
   "source": [
    "This document is intended to help students with little Python experience get up to speed quickly. It is a required assignment, even though it may be basic for people with basic Python experience. \n",
    "\n",
    "This tutorial is intended to be completed in a linear order, with each instruction following the next. Simply read the steps and complete them in the code cells indicated by comments. "
   ]
  },
  {
   "cell_type": "markdown",
   "id": "6dca0dc2-313e-4215-a09a-b425ead5a674",
   "metadata": {},
   "source": [
    "* **Variable assignment:** To assign a variable so that we can use it later, we give the name of the variable, followed by =, followed by the value. For instance, typing\n",
    "```python\n",
    "x = 3 \n",
    "```\n",
    "sets the variable x to have the value 3. \n"
   ]
  },
  {
   "cell_type": "code",
   "execution_count": 8,
   "id": "f0e475fb-1e7d-4456-b783-df7f9fb6550e",
   "metadata": {
    "tags": []
   },
   "outputs": [],
   "source": [
    "# In this cell, replace this comment with Python code to make the variable z have the value 4. \n",
    "z = 4"
   ]
  },
  {
   "cell_type": "markdown",
   "id": "45d78383-ebba-4e8d-815d-bf413b80e306",
   "metadata": {},
   "source": [
    "* **Basic Calculations** We can perform basic calculations on variables by using the arithmetic symbols. For instance, if we set\n",
    "```python\n",
    "y = x + 1\n",
    "```\n",
    "we now have a variable **y** stored in memory with the variable 4. "
   ]
  },
  {
   "cell_type": "code",
   "execution_count": 9,
   "id": "efdb3dbd-ab7a-42fc-bf74-f41201bb37ef",
   "metadata": {},
   "outputs": [],
   "source": [
    "# In this cell, replace this comment with Python code to make\n",
    "# a new variable w that has the value of 3 times z. \n",
    "w = 3 * z"
   ]
  },
  {
   "cell_type": "markdown",
   "id": "8a007d8c-c54a-416f-8c7e-3c122a80f15a",
   "metadata": {},
   "source": [
    "All of the basic arithmtic operations are available in Python, and more advanced math operations can be found in the **math** library. "
   ]
  },
  {
   "cell_type": "markdown",
   "id": "21c18495-28f9-4031-8557-7f8f78d1455e",
   "metadata": {},
   "source": [
    "## Functions and Logic\n",
    "\n",
    "### Basic Introduction\n",
    "\n",
    "We define a function in Python using the **def** keyword, followed by the input argument variable. For instance, the following Python function is one way to implement the Heaviside function. "
   ]
  },
  {
   "cell_type": "code",
   "execution_count": 10,
   "id": "38bf995c-46f4-401c-b3d8-94877eaf0ed8",
   "metadata": {},
   "outputs": [],
   "source": [
    "def Heaviside(t):\n",
    "    if t <= 0:\n",
    "        return 0\n",
    "    else:\n",
    "        return 1"
   ]
  },
  {
   "cell_type": "markdown",
   "id": "f63792f4-722a-4a06-be0b-62f675b0ad36",
   "metadata": {},
   "source": [
    "You'll notice we used **if** and **else** pretty freely. These are two of Python's basic **conditionals**. If you're not familiar with programming and don't know what if and else are doing here, they're pretty straightforward. If the condition after \"if\" is met, the code below the \"if\" statement executes. If the condition is not met, the code below the \"else\" statement is executed. \n"
   ]
  },
  {
   "cell_type": "markdown",
   "id": "cac60eea-5210-4697-b6af-de1f53c28e6a",
   "metadata": {},
   "source": [
    "### Testing Things Out\n",
    "\n",
    "Often we need to be sure that our functions do exactly what we want them to do. Let's see what that looks like."
   ]
  },
  {
   "cell_type": "markdown",
   "id": "2f3b1029-0e08-4db6-bb75-b0e9c90e0693",
   "metadata": {},
   "source": [
    "**Exercise:** Let $H(t)$ denote the Heaviside function defined above. In the cells below, calculate $H(-1)$, $H(0)$, $H(5)$, and $H(\\text{\"green\"})$. Which of these behave as you expect? Can you explain any odd behavior? "
   ]
  },
  {
   "cell_type": "markdown",
   "id": "34063e7a",
   "metadata": {},
   "source": [
    "I don't know what H(0) is supposed to return in the Heaviside function. It returns 0 in this implementation because we check t <= 0. \n",
    "If we changed it to t < 0 it will return 1 for H(0) without changing other results. \n",
    "If we want H(0) = 0.5 we have to have \n",
    "    \n",
    "    if t < 0: \n",
    "        return 0\n",
    "    elif t == 0:\n",
    "        return .5 \n",
    "    else:\n",
    "        return 1\n",
    "\n",
    "The others act as you expect. H('green') throws an error because it expects a numerical value."
   ]
  },
  {
   "cell_type": "code",
   "execution_count": 11,
   "id": "8453e87b-de5a-4f9c-8a4a-b3acff6bcc2e",
   "metadata": {},
   "outputs": [
    {
     "data": {
      "text/plain": [
       "0"
      ]
     },
     "execution_count": 11,
     "metadata": {},
     "output_type": "execute_result"
    }
   ],
   "source": [
    "#  Calculate H(-1)\n",
    "Heaviside(-1)"
   ]
  },
  {
   "cell_type": "code",
   "execution_count": 12,
   "id": "b0c9d0f0-ded4-4f79-b73c-11997f128454",
   "metadata": {},
   "outputs": [
    {
     "data": {
      "text/plain": [
       "0"
      ]
     },
     "execution_count": 12,
     "metadata": {},
     "output_type": "execute_result"
    }
   ],
   "source": [
    "# Calculate H(0)\n",
    "Heaviside(0)"
   ]
  },
  {
   "cell_type": "code",
   "execution_count": 13,
   "id": "cfe9af74-00d3-4fce-9ba7-405d7bf04284",
   "metadata": {},
   "outputs": [
    {
     "data": {
      "text/plain": [
       "1"
      ]
     },
     "execution_count": 13,
     "metadata": {},
     "output_type": "execute_result"
    }
   ],
   "source": [
    "# Calculate H(5)\n",
    "Heaviside(5)"
   ]
  },
  {
   "cell_type": "code",
   "execution_count": 15,
   "id": "4af71367-6602-4b64-8c4f-d77010ebc7a0",
   "metadata": {},
   "outputs": [],
   "source": [
    "# Calculuate(\"green\")\n",
    "\n",
    "# Commented out because it throws an error\n",
    "# Heaviside(\"green\")"
   ]
  },
  {
   "cell_type": "markdown",
   "id": "c30b2709-1deb-4ac4-a4d6-389c6d807a92",
   "metadata": {},
   "source": [
    "As another basic example of a function, let's define something that simply adds one to the input. "
   ]
  },
  {
   "cell_type": "code",
   "execution_count": 16,
   "id": "739e4a1f-6bcc-4753-8fdd-a2dc26afdb42",
   "metadata": {},
   "outputs": [],
   "source": [
    "def add_one(x):\n",
    "    return x + 1\n"
   ]
  },
  {
   "cell_type": "markdown",
   "id": "6f6de8f3-7c6c-4600-9230-266d99b9aef3",
   "metadata": {},
   "source": [
    "It's also possible to write a function that takes multiple inputs (and in fact such functions are more common in most applications we look at). Here's a simple example:"
   ]
  },
  {
   "cell_type": "code",
   "execution_count": 17,
   "id": "bb337a68-82cd-4448-8486-5fc68effd099",
   "metadata": {},
   "outputs": [],
   "source": [
    "def add_these_numbers(x,y,z):\n",
    "    tot = x + y + z\n",
    "    return tot"
   ]
  },
  {
   "cell_type": "markdown",
   "id": "d6d02e12-c4cc-4581-a16c-514cb792f669",
   "metadata": {},
   "source": [
    "**Exercise:** Write a function **make_more_extreme** that has the following behavior:\n",
    "* the function subtracts one from negative numbers\n",
    "* the function adds one to positive numbers\n",
    "* the function doesn't affect 0 "
   ]
  },
  {
   "cell_type": "code",
   "execution_count": 18,
   "id": "dead5515-5f2e-4ec1-be6d-8e97693c9591",
   "metadata": {},
   "outputs": [],
   "source": [
    "# Write the function make_more_extreme here. \n",
    "def make_more_extreme(n):\n",
    "    if n < 0:\n",
    "        return n - 1\n",
    "    elif n > 0:\n",
    "        return n + 1\n",
    "    else:\n",
    "        return n"
   ]
  },
  {
   "cell_type": "markdown",
   "id": "af86d030-905a-4374-8ed6-d47443d3df2d",
   "metadata": {},
   "source": [
    "**Exercise: testing a function** In the cells below, evaluate at least five test values that you can use to see if the function behaves as you expect."
   ]
  },
  {
   "cell_type": "code",
   "execution_count": 19,
   "id": "b9c09010-7f78-4823-b88f-a74c7d2c7b17",
   "metadata": {},
   "outputs": [
    {
     "data": {
      "text/plain": [
       "-2"
      ]
     },
     "execution_count": 19,
     "metadata": {},
     "output_type": "execute_result"
    }
   ],
   "source": [
    "# Evaluate first test value \n",
    "make_more_extreme(-1)"
   ]
  },
  {
   "cell_type": "code",
   "execution_count": 20,
   "id": "965063a4-6f02-42fb-997d-607d6bcbd16c",
   "metadata": {},
   "outputs": [
    {
     "data": {
      "text/plain": [
       "0"
      ]
     },
     "execution_count": 20,
     "metadata": {},
     "output_type": "execute_result"
    }
   ],
   "source": [
    "# Evaluate second test value \n",
    "make_more_extreme(0)"
   ]
  },
  {
   "cell_type": "code",
   "execution_count": 21,
   "id": "499087d3-3060-42f6-af8f-ba0e9ae83ce2",
   "metadata": {},
   "outputs": [
    {
     "data": {
      "text/plain": [
       "2"
      ]
     },
     "execution_count": 21,
     "metadata": {},
     "output_type": "execute_result"
    }
   ],
   "source": [
    "# Evaluate third test value \n",
    "make_more_extreme(1)"
   ]
  },
  {
   "cell_type": "code",
   "execution_count": 22,
   "id": "0669c9fd-505d-4e2f-865b-0550d9ce898c",
   "metadata": {},
   "outputs": [
    {
     "data": {
      "text/plain": [
       "-101"
      ]
     },
     "execution_count": 22,
     "metadata": {},
     "output_type": "execute_result"
    }
   ],
   "source": [
    "# Evaluate fourth test value \n",
    "make_more_extreme(-100)"
   ]
  },
  {
   "cell_type": "code",
   "execution_count": 23,
   "id": "77cabfc3-0669-422c-bab9-0cde613753d0",
   "metadata": {},
   "outputs": [
    {
     "data": {
      "text/plain": [
       "101"
      ]
     },
     "execution_count": 23,
     "metadata": {},
     "output_type": "execute_result"
    }
   ],
   "source": [
    "# Evaluate fifth test value \n",
    "make_more_extreme(100)"
   ]
  },
  {
   "cell_type": "markdown",
   "id": "ca09d1c2-8384-4b80-81ea-d84b71b770f4",
   "metadata": {},
   "source": [
    "**Exercise:** You know how to solve an **affine** equation like $3x + 2 = 0$. \n",
    "* How would you solve the equation $ax + b = 0$ (your final answer will depend have $a$ and $b$ terms -- that's OK).\n",
    "* Create a function called **solve_affine_equation** that takes **two inputs** **a** and **b**, and returns the solution of $ax + b = 0$. \n",
    "* Generate five affine equations, solve them by hand, and check that your Python function matches your hand calculations."
   ]
  },
  {
   "cell_type": "code",
   "execution_count": 24,
   "id": "44ddb50d-9c7a-4a6a-9ffb-a5520450777f",
   "metadata": {},
   "outputs": [],
   "source": [
    "# Write the function solve_affine_equation here \n",
    "def solve_affine_equation(a, b):\n",
    "    return (-b) / a"
   ]
  },
  {
   "cell_type": "code",
   "execution_count": 25,
   "id": "b79c826c-7948-4b9a-b37d-fff474958bd4",
   "metadata": {},
   "outputs": [
    {
     "data": {
      "text/plain": [
       "-0.6666666666666666"
      ]
     },
     "execution_count": 25,
     "metadata": {},
     "output_type": "execute_result"
    }
   ],
   "source": [
    "# Test the first value of solve_affine_equation\n",
    "solve_affine_equation(3, 2)"
   ]
  },
  {
   "cell_type": "code",
   "execution_count": 26,
   "id": "adfd37e3-99a9-4773-8b6a-38f7b617f707",
   "metadata": {},
   "outputs": [
    {
     "data": {
      "text/plain": [
       "2.0"
      ]
     },
     "execution_count": 26,
     "metadata": {},
     "output_type": "execute_result"
    }
   ],
   "source": [
    "# Test the second value of solve_affine_equation\n",
    "solve_affine_equation(5, -10)"
   ]
  },
  {
   "cell_type": "code",
   "execution_count": 27,
   "id": "8c99dbb5-d3ea-4570-b9bf-f3bab61b7f3d",
   "metadata": {},
   "outputs": [
    {
     "data": {
      "text/plain": [
       "5.0"
      ]
     },
     "execution_count": 27,
     "metadata": {},
     "output_type": "execute_result"
    }
   ],
   "source": [
    "# Test the third value of solve_affine_equation\n",
    "solve_affine_equation(-3, 15)"
   ]
  },
  {
   "cell_type": "code",
   "execution_count": 28,
   "id": "a13bb51e-463a-45e1-adb6-42ea1a35814d",
   "metadata": {},
   "outputs": [
    {
     "data": {
      "text/plain": [
       "1.0"
      ]
     },
     "execution_count": 28,
     "metadata": {},
     "output_type": "execute_result"
    }
   ],
   "source": [
    "# Test the fourth value of solve_affine_equation\n",
    "solve_affine_equation(-1, 1)"
   ]
  },
  {
   "cell_type": "code",
   "execution_count": 29,
   "id": "8297a786-b996-445c-8123-d47871a7d922",
   "metadata": {},
   "outputs": [
    {
     "data": {
      "text/plain": [
       "-1.0"
      ]
     },
     "execution_count": 29,
     "metadata": {},
     "output_type": "execute_result"
    }
   ],
   "source": [
    "# Test the fifth value of solve_affine_equation\n",
    "solve_affine_equation(1, 1)"
   ]
  }
 ],
 "metadata": {
  "kernelspec": {
   "display_name": "Python 3.8.10 64-bit",
   "language": "python",
   "name": "python3"
  },
  "language_info": {
   "codemirror_mode": {
    "name": "ipython",
    "version": 3
   },
   "file_extension": ".py",
   "mimetype": "text/x-python",
   "name": "python",
   "nbconvert_exporter": "python",
   "pygments_lexer": "ipython3",
   "version": "3.8.10"
  },
  "vscode": {
   "interpreter": {
    "hash": "916dbcbb3f70747c44a77c7bcd40155683ae19c65e1c03b4aa3499c5328201f1"
   }
  }
 },
 "nbformat": 4,
 "nbformat_minor": 5
}
