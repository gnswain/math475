{
 "cells": [
  {
   "cell_type": "code",
   "execution_count": 28,
   "id": "c52b001a",
   "metadata": {},
   "outputs": [],
   "source": [
    "import pandas as pd\n",
    "import numpy as np"
   ]
  },
  {
   "cell_type": "code",
   "execution_count": 19,
   "id": "b83579d7",
   "metadata": {},
   "outputs": [],
   "source": [
    "impeached_df = pd.read_csv('impeach.csv')\n",
    "impeached_df.index = impeached_df['Senator']"
   ]
  },
  {
   "cell_type": "markdown",
   "id": "d971f312",
   "metadata": {},
   "source": [
    "**1)** What state did Daniel Patrick Moynihan represent?**"
   ]
  },
  {
   "cell_type": "code",
   "execution_count": 27,
   "id": "7bc56b3a",
   "metadata": {},
   "outputs": [
    {
     "name": "stdout",
     "output_type": "stream",
     "text": [
      "NY\n"
     ]
    }
   ],
   "source": [
    "print(impeached_df.loc['moynihan']['State'])"
   ]
  },
  {
   "cell_type": "markdown",
   "id": "27ee4333",
   "metadata": {},
   "source": [
    "Senator Moynihan represented New York."
   ]
  },
  {
   "cell_type": "markdown",
   "id": "a02b000d",
   "metadata": {},
   "source": [
    "**2)** What was the standard deviation of the conservatism score for senators in 1998? **(Hint: use the \"std\" command to get the standard deviation.)**"
   ]
  },
  {
   "cell_type": "code",
   "execution_count": 30,
   "id": "cd11f9d0",
   "metadata": {},
   "outputs": [
    {
     "name": "stdout",
     "output_type": "stream",
     "text": [
      "37.29013140228926\n"
     ]
    }
   ],
   "source": [
    "print(np.std(impeached_df['Conservatism']))"
   ]
  },
  {
   "cell_type": "markdown",
   "id": "24ce71cc",
   "metadata": {},
   "source": [
    "Standard deviation of conservatism was 37.29."
   ]
  },
  {
   "cell_type": "markdown",
   "id": "1b43ae06",
   "metadata": {},
   "source": [
    "**3)** Which of Tennessee's two senators was ranked as more conservative in 1998: Thompson or Graham?"
   ]
  },
  {
   "cell_type": "code",
   "execution_count": 56,
   "id": "050233f8",
   "metadata": {},
   "outputs": [
    {
     "data": {
      "text/plain": [
       "'thompson'"
      ]
     },
     "execution_count": 56,
     "metadata": {},
     "output_type": "execute_result"
    }
   ],
   "source": [
    "tn = impeached_df.loc[impeached_df['State'] == 'TN']\n",
    "tn.loc[tn['Conservatism'] == tn['Conservatism'].max()].iloc[0]['Senator']"
   ]
  },
  {
   "cell_type": "markdown",
   "id": "4c50acf2",
   "metadata": {},
   "source": [
    "Thompson was the more conservative of the two."
   ]
  },
  {
   "cell_type": "markdown",
   "id": "61681e36",
   "metadata": {},
   "source": [
    "**4)** What percentage of the vote did Bill Clinton receive in New York in the 1996 election? "
   ]
  },
  {
   "cell_type": "code",
   "execution_count": 64,
   "id": "0ea3a57c",
   "metadata": {},
   "outputs": [
    {
     "data": {
      "text/plain": [
       "59"
      ]
     },
     "execution_count": 64,
     "metadata": {},
     "output_type": "execute_result"
    }
   ],
   "source": [
    "impeached_df.loc[impeached_df['State'] == 'NY'].iloc[0]['Clinton']"
   ]
  },
  {
   "cell_type": "markdown",
   "id": "dad0e99e",
   "metadata": {},
   "source": [
    "Clinton recieved 59% of the vote."
   ]
  },
  {
   "cell_type": "markdown",
   "id": "36fe5130",
   "metadata": {},
   "source": [
    "**5) Bonus:** Senator Kay Bailey Hutchison is not coded as \"hutchison\". Using any method, find the row that corresponds to Kay Bailey Hutchinson. Describe the method you used. "
   ]
  },
  {
   "cell_type": "code",
   "execution_count": 68,
   "id": "6d4fff75",
   "metadata": {},
   "outputs": [
    {
     "data": {
      "text/html": [
       "<div>\n",
       "<style scoped>\n",
       "    .dataframe tbody tr th:only-of-type {\n",
       "        vertical-align: middle;\n",
       "    }\n",
       "\n",
       "    .dataframe tbody tr th {\n",
       "        vertical-align: top;\n",
       "    }\n",
       "\n",
       "    .dataframe thead th {\n",
       "        text-align: right;\n",
       "    }\n",
       "</style>\n",
       "<table border=\"1\" class=\"dataframe\">\n",
       "  <thead>\n",
       "    <tr style=\"text-align: right;\">\n",
       "      <th></th>\n",
       "      <th>Senator</th>\n",
       "      <th>State</th>\n",
       "      <th>Article1</th>\n",
       "      <th>Article2</th>\n",
       "      <th>Guilt</th>\n",
       "      <th>Party</th>\n",
       "      <th>Conservatism</th>\n",
       "      <th>Clinton</th>\n",
       "      <th>Reelection</th>\n",
       "      <th>FirstTerm</th>\n",
       "    </tr>\n",
       "    <tr>\n",
       "      <th>Senator</th>\n",
       "      <th></th>\n",
       "      <th></th>\n",
       "      <th></th>\n",
       "      <th></th>\n",
       "      <th></th>\n",
       "      <th></th>\n",
       "      <th></th>\n",
       "      <th></th>\n",
       "      <th></th>\n",
       "      <th></th>\n",
       "    </tr>\n",
       "  </thead>\n",
       "  <tbody>\n",
       "    <tr>\n",
       "      <th>timhutch</th>\n",
       "      <td>timhutch</td>\n",
       "      <td>AR</td>\n",
       "      <td>1</td>\n",
       "      <td>1</td>\n",
       "      <td>2</td>\n",
       "      <td>1</td>\n",
       "      <td>100</td>\n",
       "      <td>54</td>\n",
       "      <td>2002</td>\n",
       "      <td>1</td>\n",
       "    </tr>\n",
       "    <tr>\n",
       "      <th>kaybhut</th>\n",
       "      <td>kaybhut</td>\n",
       "      <td>TX</td>\n",
       "      <td>1</td>\n",
       "      <td>1</td>\n",
       "      <td>2</td>\n",
       "      <td>1</td>\n",
       "      <td>92</td>\n",
       "      <td>44</td>\n",
       "      <td>2000</td>\n",
       "      <td>1</td>\n",
       "    </tr>\n",
       "  </tbody>\n",
       "</table>\n",
       "</div>"
      ],
      "text/plain": [
       "           Senator State  Article1  Article2  Guilt  Party  Conservatism  \\\n",
       "Senator                                                                    \n",
       "timhutch  timhutch    AR         1         1      2      1           100   \n",
       "kaybhut    kaybhut    TX         1         1      2      1            92   \n",
       "\n",
       "          Clinton  Reelection  FirstTerm  \n",
       "Senator                                   \n",
       "timhutch       54        2002          1  \n",
       "kaybhut        44        2000          1  "
      ]
     },
     "execution_count": 68,
     "metadata": {},
     "output_type": "execute_result"
    }
   ],
   "source": [
    "impeached_df.loc[impeached_df['Senator'].str.contains('hut')]"
   ]
  }
 ],
 "metadata": {
  "kernelspec": {
   "display_name": "Python 3 (ipykernel)",
   "language": "python",
   "name": "python3"
  },
  "language_info": {
   "codemirror_mode": {
    "name": "ipython",
    "version": 3
   },
   "file_extension": ".py",
   "mimetype": "text/x-python",
   "name": "python",
   "nbconvert_exporter": "python",
   "pygments_lexer": "ipython3",
   "version": "3.9.12"
  }
 },
 "nbformat": 4,
 "nbformat_minor": 5
}
