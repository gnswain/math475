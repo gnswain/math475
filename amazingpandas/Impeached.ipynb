{
 "cells": [
  {
   "cell_type": "markdown",
   "id": "bdc86aa3",
   "metadata": {},
   "source": [
    "# Week 1, Checkpoint 2"
   ]
  },
  {
   "cell_type": "markdown",
   "id": "d2e65937",
   "metadata": {},
   "source": [
    "Graham Swain, 08/30/22"
   ]
  },
  {
   "cell_type": "code",
   "execution_count": 1,
   "id": "f6895393",
   "metadata": {},
   "outputs": [],
   "source": [
    "import pandas as pd\n",
    "import numpy as np"
   ]
  },
  {
   "cell_type": "code",
   "execution_count": 2,
   "id": "ff54d739",
   "metadata": {},
   "outputs": [],
   "source": [
    "impeached_df = pd.read_csv('impeach.csv')\n",
    "impeached_df.index = impeached_df['Senator']"
   ]
  },
  {
   "cell_type": "markdown",
   "id": "064d9068",
   "metadata": {},
   "source": [
    "**1)** What state did Daniel Patrick Moynihan represent?"
   ]
  },
  {
   "cell_type": "code",
   "execution_count": 3,
   "id": "afa4e4f4",
   "metadata": {},
   "outputs": [
    {
     "name": "stdout",
     "output_type": "stream",
     "text": [
      "NY\n"
     ]
    }
   ],
   "source": [
    "print(impeached_df.loc['moynihan']['State'])"
   ]
  },
  {
   "cell_type": "markdown",
   "id": "34add3ce",
   "metadata": {},
   "source": [
    "Senator Moynihan represented New York."
   ]
  },
  {
   "cell_type": "markdown",
   "id": "3562dc4b",
   "metadata": {},
   "source": [
    "**2)** What was the standard deviation of the conservatism score for senators in 1998? **(Hint: use the \"std\" command to get the standard deviation.)**"
   ]
  },
  {
   "cell_type": "code",
   "execution_count": 4,
   "id": "5b9ad0f5",
   "metadata": {},
   "outputs": [
    {
     "name": "stdout",
     "output_type": "stream",
     "text": [
      "37.29013140228926\n"
     ]
    }
   ],
   "source": [
    "print(np.std(impeached_df['Conservatism']))"
   ]
  },
  {
   "cell_type": "markdown",
   "id": "b19747d7",
   "metadata": {},
   "source": [
    "Standard deviation of conservatism was 37.29."
   ]
  },
  {
   "cell_type": "markdown",
   "id": "a9e5b46f",
   "metadata": {},
   "source": [
    "**3)** Which of Tennessee's two senators was ranked as more conservative in 1998: Thompson or Graham?"
   ]
  },
  {
   "cell_type": "code",
   "execution_count": 5,
   "id": "b0850e92",
   "metadata": {},
   "outputs": [
    {
     "data": {
      "text/plain": [
       "'thompson'"
      ]
     },
     "execution_count": 5,
     "metadata": {},
     "output_type": "execute_result"
    }
   ],
   "source": [
    "tn = impeached_df.loc[impeached_df['State'] == 'TN']\n",
    "tn.loc[tn['Conservatism'] == tn['Conservatism'].max()].iloc[0]['Senator']"
   ]
  },
  {
   "cell_type": "markdown",
   "id": "66307ad4",
   "metadata": {},
   "source": [
    "Thompson was the more conservative of the two."
   ]
  },
  {
   "cell_type": "markdown",
   "id": "f5353cfe",
   "metadata": {},
   "source": [
    "**4)** What percentage of the vote did Bill Clinton receive in New York in the 1996 election? "
   ]
  },
  {
   "cell_type": "code",
   "execution_count": 6,
   "id": "3d5fa6b5",
   "metadata": {},
   "outputs": [
    {
     "data": {
      "text/plain": [
       "59"
      ]
     },
     "execution_count": 6,
     "metadata": {},
     "output_type": "execute_result"
    }
   ],
   "source": [
    "impeached_df.loc[impeached_df['State'] == 'NY'].iloc[0]['Clinton']"
   ]
  },
  {
   "cell_type": "markdown",
   "id": "77e6e009",
   "metadata": {},
   "source": [
    "Clinton recieved 59% of the vote."
   ]
  },
  {
   "cell_type": "markdown",
   "id": "5b06c2a3",
   "metadata": {},
   "source": [
    "**5) Bonus:** Senator Kay Bailey Hutchison is not coded as \"hutchison\". Using any method, find the row that corresponds to Kay Bailey Hutchinson. Describe the method you used. "
   ]
  },
  {
   "cell_type": "code",
   "execution_count": 7,
   "id": "0108faa0",
   "metadata": {},
   "outputs": [
    {
     "data": {
      "text/html": [
       "<div>\n",
       "<style scoped>\n",
       "    .dataframe tbody tr th:only-of-type {\n",
       "        vertical-align: middle;\n",
       "    }\n",
       "\n",
       "    .dataframe tbody tr th {\n",
       "        vertical-align: top;\n",
       "    }\n",
       "\n",
       "    .dataframe thead th {\n",
       "        text-align: right;\n",
       "    }\n",
       "</style>\n",
       "<table border=\"1\" class=\"dataframe\">\n",
       "  <thead>\n",
       "    <tr style=\"text-align: right;\">\n",
       "      <th></th>\n",
       "      <th>Senator</th>\n",
       "      <th>State</th>\n",
       "      <th>Article1</th>\n",
       "      <th>Article2</th>\n",
       "      <th>Guilt</th>\n",
       "      <th>Party</th>\n",
       "      <th>Conservatism</th>\n",
       "      <th>Clinton</th>\n",
       "      <th>Reelection</th>\n",
       "      <th>FirstTerm</th>\n",
       "    </tr>\n",
       "    <tr>\n",
       "      <th>Senator</th>\n",
       "      <th></th>\n",
       "      <th></th>\n",
       "      <th></th>\n",
       "      <th></th>\n",
       "      <th></th>\n",
       "      <th></th>\n",
       "      <th></th>\n",
       "      <th></th>\n",
       "      <th></th>\n",
       "      <th></th>\n",
       "    </tr>\n",
       "  </thead>\n",
       "  <tbody>\n",
       "    <tr>\n",
       "      <th>timhutch</th>\n",
       "      <td>timhutch</td>\n",
       "      <td>AR</td>\n",
       "      <td>1</td>\n",
       "      <td>1</td>\n",
       "      <td>2</td>\n",
       "      <td>1</td>\n",
       "      <td>100</td>\n",
       "      <td>54</td>\n",
       "      <td>2002</td>\n",
       "      <td>1</td>\n",
       "    </tr>\n",
       "    <tr>\n",
       "      <th>kaybhut</th>\n",
       "      <td>kaybhut</td>\n",
       "      <td>TX</td>\n",
       "      <td>1</td>\n",
       "      <td>1</td>\n",
       "      <td>2</td>\n",
       "      <td>1</td>\n",
       "      <td>92</td>\n",
       "      <td>44</td>\n",
       "      <td>2000</td>\n",
       "      <td>1</td>\n",
       "    </tr>\n",
       "  </tbody>\n",
       "</table>\n",
       "</div>"
      ],
      "text/plain": [
       "           Senator State  Article1  Article2  Guilt  Party  Conservatism  \\\n",
       "Senator                                                                    \n",
       "timhutch  timhutch    AR         1         1      2      1           100   \n",
       "kaybhut    kaybhut    TX         1         1      2      1            92   \n",
       "\n",
       "          Clinton  Reelection  FirstTerm  \n",
       "Senator                                   \n",
       "timhutch       54        2002          1  \n",
       "kaybhut        44        2000          1  "
      ]
     },
     "execution_count": 7,
     "metadata": {},
     "output_type": "execute_result"
    }
   ],
   "source": [
    "impeached_df.loc[impeached_df['Senator'].str.contains('hut')]"
   ]
  },
  {
   "cell_type": "code",
   "execution_count": 8,
   "id": "a0ab498a",
   "metadata": {},
   "outputs": [
    {
     "data": {
      "text/html": [
       "<div>\n",
       "<style scoped>\n",
       "    .dataframe tbody tr th:only-of-type {\n",
       "        vertical-align: middle;\n",
       "    }\n",
       "\n",
       "    .dataframe tbody tr th {\n",
       "        vertical-align: top;\n",
       "    }\n",
       "\n",
       "    .dataframe thead th {\n",
       "        text-align: right;\n",
       "    }\n",
       "</style>\n",
       "<table border=\"1\" class=\"dataframe\">\n",
       "  <thead>\n",
       "    <tr style=\"text-align: right;\">\n",
       "      <th></th>\n",
       "      <th>Senator</th>\n",
       "      <th>State</th>\n",
       "      <th>Article1</th>\n",
       "      <th>Article2</th>\n",
       "      <th>Guilt</th>\n",
       "      <th>Party</th>\n",
       "      <th>Conservatism</th>\n",
       "      <th>Clinton</th>\n",
       "      <th>Reelection</th>\n",
       "      <th>FirstTerm</th>\n",
       "    </tr>\n",
       "    <tr>\n",
       "      <th>Senator</th>\n",
       "      <th></th>\n",
       "      <th></th>\n",
       "      <th></th>\n",
       "      <th></th>\n",
       "      <th></th>\n",
       "      <th></th>\n",
       "      <th></th>\n",
       "      <th></th>\n",
       "      <th></th>\n",
       "      <th></th>\n",
       "    </tr>\n",
       "  </thead>\n",
       "  <tbody>\n",
       "    <tr>\n",
       "      <th>kaybhut</th>\n",
       "      <td>kaybhut</td>\n",
       "      <td>TX</td>\n",
       "      <td>1</td>\n",
       "      <td>1</td>\n",
       "      <td>2</td>\n",
       "      <td>1</td>\n",
       "      <td>92</td>\n",
       "      <td>44</td>\n",
       "      <td>2000</td>\n",
       "      <td>1</td>\n",
       "    </tr>\n",
       "  </tbody>\n",
       "</table>\n",
       "</div>"
      ],
      "text/plain": [
       "         Senator State  Article1  Article2  Guilt  Party  Conservatism  \\\n",
       "Senator                                                                  \n",
       "kaybhut  kaybhut    TX         1         1      2      1            92   \n",
       "\n",
       "         Clinton  Reelection  FirstTerm  \n",
       "Senator                                  \n",
       "kaybhut       44        2000          1  "
      ]
     },
     "execution_count": 8,
     "metadata": {},
     "output_type": "execute_result"
    }
   ],
   "source": [
    "impeached_df.loc[impeached_df.index == 'kaybhut']"
   ]
  },
  {
   "cell_type": "markdown",
   "id": "685f3935",
   "metadata": {},
   "source": [
    "I cheated and originally just scanned through the CSV manually, which is possible since there are only 100 entries.\n",
    "\n",
    "For my coded answer I just searched for Senator codes that contained 'hut'. It would've been a decent place to start to begin with, since it was likely that it would contain at least part of her last name."
   ]
  },
  {
   "cell_type": "code",
   "execution_count": 10,
   "id": "e77284a9",
   "metadata": {},
   "outputs": [
    {
     "ename": "ValueError",
     "evalue": "No axis named shelby for object type DataFrame",
     "output_type": "error",
     "traceback": [
      "\u001b[1;31m---------------------------------------------------------------------------\u001b[0m",
      "\u001b[1;31mKeyError\u001b[0m                                  Traceback (most recent call last)",
      "File \u001b[1;32m~\\anaconda3\\lib\\site-packages\\pandas\\core\\generic.py:550\u001b[0m, in \u001b[0;36mNDFrame._get_axis_number\u001b[1;34m(cls, axis)\u001b[0m\n\u001b[0;32m    549\u001b[0m \u001b[38;5;28;01mtry\u001b[39;00m:\n\u001b[1;32m--> 550\u001b[0m     \u001b[38;5;28;01mreturn\u001b[39;00m \u001b[38;5;28;43mcls\u001b[39;49m\u001b[38;5;241;43m.\u001b[39;49m\u001b[43m_AXIS_TO_AXIS_NUMBER\u001b[49m\u001b[43m[\u001b[49m\u001b[43maxis\u001b[49m\u001b[43m]\u001b[49m\n\u001b[0;32m    551\u001b[0m \u001b[38;5;28;01mexcept\u001b[39;00m \u001b[38;5;167;01mKeyError\u001b[39;00m:\n",
      "\u001b[1;31mKeyError\u001b[0m: 'shelby'",
      "\nDuring handling of the above exception, another exception occurred:\n",
      "\u001b[1;31mValueError\u001b[0m                                Traceback (most recent call last)",
      "Input \u001b[1;32mIn [10]\u001b[0m, in \u001b[0;36m<cell line: 1>\u001b[1;34m()\u001b[0m\n\u001b[1;32m----> 1\u001b[0m \u001b[43mimpeached_df\u001b[49m\u001b[38;5;241;43m.\u001b[39;49m\u001b[43mloc\u001b[49m\u001b[43m(\u001b[49m\u001b[38;5;124;43m'\u001b[39;49m\u001b[38;5;124;43mshelby\u001b[39;49m\u001b[38;5;124;43m'\u001b[39;49m\u001b[43m)\u001b[49m\n",
      "File \u001b[1;32m~\\anaconda3\\lib\\site-packages\\pandas\\core\\indexing.py:634\u001b[0m, in \u001b[0;36m_LocationIndexer.__call__\u001b[1;34m(self, axis)\u001b[0m\n\u001b[0;32m    631\u001b[0m new_self \u001b[38;5;241m=\u001b[39m \u001b[38;5;28mtype\u001b[39m(\u001b[38;5;28mself\u001b[39m)(\u001b[38;5;28mself\u001b[39m\u001b[38;5;241m.\u001b[39mname, \u001b[38;5;28mself\u001b[39m\u001b[38;5;241m.\u001b[39mobj)\n\u001b[0;32m    633\u001b[0m \u001b[38;5;28;01mif\u001b[39;00m axis \u001b[38;5;129;01mis\u001b[39;00m \u001b[38;5;129;01mnot\u001b[39;00m \u001b[38;5;28;01mNone\u001b[39;00m:\n\u001b[1;32m--> 634\u001b[0m     axis \u001b[38;5;241m=\u001b[39m \u001b[38;5;28;43mself\u001b[39;49m\u001b[38;5;241;43m.\u001b[39;49m\u001b[43mobj\u001b[49m\u001b[38;5;241;43m.\u001b[39;49m\u001b[43m_get_axis_number\u001b[49m\u001b[43m(\u001b[49m\u001b[43maxis\u001b[49m\u001b[43m)\u001b[49m\n\u001b[0;32m    635\u001b[0m new_self\u001b[38;5;241m.\u001b[39maxis \u001b[38;5;241m=\u001b[39m axis\n\u001b[0;32m    636\u001b[0m \u001b[38;5;28;01mreturn\u001b[39;00m new_self\n",
      "File \u001b[1;32m~\\anaconda3\\lib\\site-packages\\pandas\\core\\generic.py:552\u001b[0m, in \u001b[0;36mNDFrame._get_axis_number\u001b[1;34m(cls, axis)\u001b[0m\n\u001b[0;32m    550\u001b[0m     \u001b[38;5;28;01mreturn\u001b[39;00m \u001b[38;5;28mcls\u001b[39m\u001b[38;5;241m.\u001b[39m_AXIS_TO_AXIS_NUMBER[axis]\n\u001b[0;32m    551\u001b[0m \u001b[38;5;28;01mexcept\u001b[39;00m \u001b[38;5;167;01mKeyError\u001b[39;00m:\n\u001b[1;32m--> 552\u001b[0m     \u001b[38;5;28;01mraise\u001b[39;00m \u001b[38;5;167;01mValueError\u001b[39;00m(\u001b[38;5;124mf\u001b[39m\u001b[38;5;124m\"\u001b[39m\u001b[38;5;124mNo axis named \u001b[39m\u001b[38;5;132;01m{\u001b[39;00maxis\u001b[38;5;132;01m}\u001b[39;00m\u001b[38;5;124m for object type \u001b[39m\u001b[38;5;132;01m{\u001b[39;00m\u001b[38;5;28mcls\u001b[39m\u001b[38;5;241m.\u001b[39m\u001b[38;5;18m__name__\u001b[39m\u001b[38;5;132;01m}\u001b[39;00m\u001b[38;5;124m\"\u001b[39m)\n",
      "\u001b[1;31mValueError\u001b[0m: No axis named shelby for object type DataFrame"
     ]
    }
   ],
   "source": [
    "impeached_df.loc('shelby')"
   ]
  }
 ],
 "metadata": {
  "kernelspec": {
   "display_name": "Python 3.8.10 64-bit",
   "language": "python",
   "name": "python3"
  },
  "language_info": {
   "codemirror_mode": {
    "name": "ipython",
    "version": 3
   },
   "file_extension": ".py",
   "mimetype": "text/x-python",
   "name": "python",
   "nbconvert_exporter": "python",
   "pygments_lexer": "ipython3",
   "version": "3.10.4"
  },
  "vscode": {
   "interpreter": {
    "hash": "916dbcbb3f70747c44a77c7bcd40155683ae19c65e1c03b4aa3499c5328201f1"
   }
  }
 },
 "nbformat": 4,
 "nbformat_minor": 5
}
