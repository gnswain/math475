{
 "cells": [
  {
   "cell_type": "markdown",
   "id": "ecd5f362-64fa-4954-807f-233329d32133",
   "metadata": {},
   "source": [
    "# Practice with the Palmer Penguins Data Set"
   ]
  },
  {
   "cell_type": "markdown",
   "id": "ae79f038-c92a-469e-b11c-b9a61a76a57c",
   "metadata": {},
   "source": [
    "## Exploratory Data Analysis\n",
    "\n",
    "In the cell below, import the libraries you will need. \n",
    "\n",
    "1. pandas\n",
    "2. seaborn"
   ]
  },
  {
   "cell_type": "markdown",
   "id": "9805f786-f76c-4853-891b-3a2137647b21",
   "metadata": {},
   "source": [
    "## Domain Knowledge and Problem Background \n",
    "\n",
    "Our goal is to learn a bit about the data set before we begin. \n",
    "\n",
    "This link gives an overview of the data that we have access to:\n",
    "[Kaggle Link for Palmer Penguin data set](https://www.kaggle.com/datasets/parulpandey/palmer-archipelago-antarctica-penguin-data)"
   ]
  },
  {
   "cell_type": "markdown",
   "id": "868f4e46-54c3-4ae3-a096-9cd3aed5a997",
   "metadata": {},
   "source": [
    "Download the \"penguins.csv\" file as a "
   ]
  },
  {
   "cell_type": "markdown",
   "id": "23d5f4de-6d59-48d0-a8be-10ca8e1012f3",
   "metadata": {},
   "source": [
    "### Basic Information Retrieval \n",
    "\n",
    "Answer each of the following questions related to the Palmer Penguins data set. These will require using pandas commands to \n",
    "\n"
   ]
  },
  {
   "cell_type": "markdown",
   "id": "46391221-d3e6-4217-9f1e-0c753fc498bc",
   "metadata": {},
   "source": [
    "### Q1. How many Penguins total are in the data set? "
   ]
  },
  {
   "cell_type": "code",
   "execution_count": null,
   "id": "234c8b13-fe3b-4ad1-bcdc-edd75af47b57",
   "metadata": {},
   "outputs": [],
   "source": [
    "# code to answer the question here "
   ]
  },
  {
   "cell_type": "markdown",
   "id": "4b903135-8eb7-4136-9acd-694413fba30d",
   "metadata": {},
   "source": [
    "### Answer to Q1. "
   ]
  },
  {
   "cell_type": "markdown",
   "id": "027e1cbe-e2df-4dd8-929a-b2cc21832cec",
   "metadata": {},
   "source": [
    "### Q2. What is the longest bill observed on any penguin in this data set?"
   ]
  },
  {
   "cell_type": "code",
   "execution_count": null,
   "id": "ee9827f8-2b22-462c-998e-800d61135971",
   "metadata": {},
   "outputs": [],
   "source": [
    "# code to answer the question here "
   ]
  },
  {
   "cell_type": "markdown",
   "id": "eb69d432-e480-4b7f-a558-485e0b5093e3",
   "metadata": {},
   "source": [
    "### Answer to Q2. "
   ]
  },
  {
   "cell_type": "markdown",
   "id": "e76eb8f4-ae03-4827-a788-a0f6e7d6c86b",
   "metadata": {},
   "source": [
    "### Q3. Which columns in the data frame have missing values? "
   ]
  },
  {
   "cell_type": "code",
   "execution_count": null,
   "id": "5af0f1f9-9e73-4b49-aeff-9b76d943d8ae",
   "metadata": {},
   "outputs": [],
   "source": [
    "# code to answer the question here "
   ]
  },
  {
   "cell_type": "markdown",
   "id": "00b0a025-6c56-46d3-a5df-a0c6ca8d88e4",
   "metadata": {},
   "source": [
    "### Answer to Q3. "
   ]
  },
  {
   "cell_type": "markdown",
   "id": "5a81e140-30c8-4998-bd9a-1006b9ce9cc0",
   "metadata": {},
   "source": [
    "### Q4. How many distinct species of penguin are represented in this data set? "
   ]
  },
  {
   "cell_type": "code",
   "execution_count": null,
   "id": "ea493395-9957-492a-b5f4-d47853f37222",
   "metadata": {},
   "outputs": [],
   "source": [
    "# code to answer the question here "
   ]
  },
  {
   "cell_type": "markdown",
   "id": "2b8057fe-1e3d-4269-a666-f2dd91fdb97f",
   "metadata": {},
   "source": [
    "### Answer to Q4. "
   ]
  },
  {
   "cell_type": "markdown",
   "id": "17ffc8ff-0563-4e1c-a5f1-04d5efbcac13",
   "metadata": {},
   "source": [
    "### Q5. Which species of penguin in the data set has the largest body mass, on average? "
   ]
  },
  {
   "cell_type": "code",
   "execution_count": null,
   "id": "c2d51c00-d352-48bf-8712-48b3ac93369e",
   "metadata": {},
   "outputs": [],
   "source": [
    "# code to answer the question here "
   ]
  },
  {
   "cell_type": "markdown",
   "id": "b40607c4-a871-4dd3-829f-e53c2fefe224",
   "metadata": {},
   "source": [
    "### Answer to Q5. "
   ]
  },
  {
   "cell_type": "markdown",
   "id": "a2ca7e01-a24c-40fc-acd1-b102f641a177",
   "metadata": {},
   "source": [
    "### Q6. What is the average bill length of female Gentoo penguins only? (Hint: using the [group_by](https://pandas.pydata.org/docs/reference/api/pandas.DataFrame.groupby.html) may work well here). "
   ]
  },
  {
   "cell_type": "code",
   "execution_count": null,
   "id": "a2a34ec1-06d8-4f8e-8f55-d50691197a8a",
   "metadata": {},
   "outputs": [],
   "source": [
    "# code to answer the question here "
   ]
  },
  {
   "cell_type": "markdown",
   "id": "92ebae1d-2d40-45c3-a6bf-0523b2b2ad55",
   "metadata": {},
   "source": [
    "### Answer to Q6 here. "
   ]
  },
  {
   "cell_type": "markdown",
   "id": "5acea4c8-10f3-458e-a761-89d17a1d0886",
   "metadata": {},
   "source": [
    "## Visualizing the Data "
   ]
  },
  {
   "cell_type": "markdown",
   "id": "a3ab67a2-01b1-4287-a9f4-54c5fdba815b",
   "metadata": {},
   "source": [
    "### Goal\n",
    "\n",
    "Our goal for this data set is to build a Machine Learning model that can predict whether or not a given penguin belongs to the Gentoo species, based on its body measurements. "
   ]
  },
  {
   "cell_type": "markdown",
   "id": "c98d097c-6c99-4d46-bb62-cc8eb0c97215",
   "metadata": {},
   "source": [
    "### Creating Plots\n",
    "\n",
    "There are different types of plots, for different types of variables. In general, we will be separating based on types of variables. \n",
    "\n",
    "1. For categorical variables, we can use boxplots to compare their distributions.\n",
    "2. For numerical variables, we can use histograms to compare their distributions.\n",
    "3. For pairs of numerical variables, we can use scatterplots to predict relationships between the two variables. "
   ]
  },
  {
   "cell_type": "markdown",
   "id": "fef2ea9c-3d3a-49de-a951-e140c2f709fd",
   "metadata": {},
   "source": [
    "### Creating Single Plots "
   ]
  },
  {
   "cell_type": "markdown",
   "id": "0124530d-75fa-40fc-b412-24436267d94a",
   "metadata": {},
   "source": [
    "### Using FacetGrid to Explore Relationships Between Variables "
   ]
  },
  {
   "cell_type": "markdown",
   "id": "d5ad19b6-a9db-43d7-bddd-686ae48347dc",
   "metadata": {},
   "source": [
    "### Using pairplots to show all variables at once "
   ]
  },
  {
   "cell_type": "markdown",
   "id": "240aed89-ae89-47f9-bc23-27156290338f",
   "metadata": {},
   "source": [
    "## Building Some Machine Learning Models and See How They Do "
   ]
  },
  {
   "cell_type": "markdown",
   "id": "fd77a0fe-109a-4875-b75c-b06ae8b468d9",
   "metadata": {},
   "source": [
    "### Reminder: The Most Basic Process of Building a Machine Learning Model \n",
    "\n",
    "We are working with sklearn for now, and the most basic process of building a model on data is pretty straightforward. \n",
    "\n",
    "1. Load the data frame\n",
    "2. Make sure it is ready to be learned (no missing values, all values are numerical)\n",
    "3. Choose the type of classifier. Create an instance of your classifier. \n",
    "4. Make sure the data matches the type of assumptions for your classifier (for instance, [k-nearest neighbors classifier](https://scikit-learn.org/stable/modules/generated/sklearn.neighbors.KNeighborsClassifier.html) will require that all data be on the same scale.)\n",
    "5. Separate your features and target (input variables and what we want to predict).\n",
    "6. Split features and training data into training and testing using [train_test_split](https://scikit-learn.org/stable/modules/generated/sklearn.model_selection.train_test_split.html)\n",
    "7. Call the ```fit``` method for your classiifer on the training data.\n",
    "8. To assess how well the classifier did, call the ```score``` method (in the future we will explore more about how to determine how well the classifier performed). "
   ]
  }
 ],
 "metadata": {
  "kernelspec": {
   "display_name": "Python 3 (ipykernel)",
   "language": "python",
   "name": "python3"
  },
  "language_info": {
   "codemirror_mode": {
    "name": "ipython",
    "version": 3
   },
   "file_extension": ".py",
   "mimetype": "text/x-python",
   "name": "python",
   "nbconvert_exporter": "python",
   "pygments_lexer": "ipython3",
   "version": "3.9.7"
  }
 },
 "nbformat": 4,
 "nbformat_minor": 5
}
