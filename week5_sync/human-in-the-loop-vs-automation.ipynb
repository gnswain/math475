{
 "cells": [
  {
   "cell_type": "markdown",
   "id": "843540ad-fc25-4733-8dff-495ce852a23e",
   "metadata": {},
   "source": [
    "# Automation in Basic Python"
   ]
  },
  {
   "cell_type": "markdown",
   "id": "422fee6d-9bc3-429b-ace6-e88f9d7f2085",
   "metadata": {},
   "source": [
    "## Functions \n",
    "\n",
    "One of the goals of using Python (and computers in general) is to make things easier and faster. To do this, we need to shift our way of thinking by abstracting what we are doing to processes that we can make repeatable, i.e. *algorithms*. "
   ]
  },
  {
   "cell_type": "markdown",
   "id": "0685b689-99a7-4bf2-a594-4535bba2dc4c",
   "metadata": {},
   "source": [
    "## Understanding Human-in-the-Loop \n",
    "\n",
    "A *human-in-the-loop* approach is how most people use computers, and how most people working with Python begin. Environments like Jupyter notebook and the basic Python interpreter work on what is known as a [Read-eval-print (REPL) loop](https://www.freecodecamp.org/news/this-is-why-your-read-eval-print-loop-is-so-amazing-cf0362003983/). In a REPL loop, we type commands, the computer evaluates them, and the result is printed to the screen. In essence, we are using the computer as a tool to interact with, in the same way that we might have used a calculator or a ruler."
   ]
  },
  {
   "cell_type": "markdown",
   "id": "dc51edb4-d3a6-4825-87ab-ad79ad3e63c9",
   "metadata": {},
   "source": [
    "## Some Examples of Human-in-the-Loop (REPL) Computation"
   ]
  },
  {
   "cell_type": "markdown",
   "id": "fa3f1ea3-49bb-431a-ac64-d7335f8419aa",
   "metadata": {},
   "source": [
    "1. In the cell below, calculate $2^4 + 3$. (**Hint:** Exponentiation in Python is done with ```**``` rather than ```^``` as in some other languages.)"
   ]
  },
  {
   "cell_type": "code",
   "execution_count": 1,
   "id": "a3c953c7-f6bb-4828-b564-e8bf89f31448",
   "metadata": {},
   "outputs": [
    {
     "data": {
      "text/plain": [
       "19"
      ]
     },
     "execution_count": 1,
     "metadata": {},
     "output_type": "execute_result"
    }
   ],
   "source": [
    "# Evaluate 2^4 + 3 here. \n",
    "2 ** 4 + 3"
   ]
  },
  {
   "cell_type": "markdown",
   "id": "807634ea-6f4d-4c10-a798-c8007fd0e520",
   "metadata": {},
   "source": [
    "2. In the cell below, calculate $\\sqrt(\\sin(\\pi))$. (**Hint:** You will need to import ```sin```, ```sqrt```, and ```PI``` from the ```math``` library using the command ```from math import sin, sqrt,PI```)"
   ]
  },
  {
   "cell_type": "code",
   "execution_count": 3,
   "id": "55013065-941f-473e-9177-a2372b4109d7",
   "metadata": {},
   "outputs": [
    {
     "data": {
      "text/plain": [
       "1.1066376096750703e-08"
      ]
     },
     "execution_count": 3,
     "metadata": {},
     "output_type": "execute_result"
    }
   ],
   "source": [
    "# Evaluate sqrt(sin(pi)) here. \n",
    "from math import sin, sqrt, pi\n",
    "sqrt(sin(pi))"
   ]
  },
  {
   "cell_type": "markdown",
   "id": "e7efce8f-3773-42d9-87b9-94acb647bba2",
   "metadata": {},
   "source": [
    "## Input and Print\n",
    "\n",
    "The ```input``` command in Python asks a user to type in data, and can be used to store that data in a variable. It's commonly used in games and other applications where people are expected to be sitting in front of a computer, typing in information. An example is shown below. "
   ]
  },
  {
   "cell_type": "code",
   "execution_count": 4,
   "id": "4c0cdf59-c4a1-427d-a65e-da19763cf101",
   "metadata": {},
   "outputs": [],
   "source": [
    "def ask_for_name_and_say_hello():\n",
    "    name = input(\"What is your name?\")\n",
    "    print(\"Hello \" + name + \"\\n\")"
   ]
  },
  {
   "cell_type": "markdown",
   "id": "afe0f9f1-5c27-4306-ae28-412fcdfed59c",
   "metadata": {},
   "source": [
    "**You Try It:** Call the function ask_for_name_and_say_hello in the cell below."
   ]
  },
  {
   "cell_type": "code",
   "execution_count": 5,
   "id": "c2d219c6-a470-49da-8a55-64404acb6042",
   "metadata": {},
   "outputs": [
    {
     "name": "stdout",
     "output_type": "stream",
     "text": [
      "Hello Graham\n",
      "\n"
     ]
    }
   ],
   "source": [
    "# call ask_for_name_and_say_hello\n",
    "ask_for_name_and_say_hello()"
   ]
  },
  {
   "cell_type": "markdown",
   "id": "eedd85ec-8869-490c-a3ef-ac0a26621ea2",
   "metadata": {},
   "source": [
    "## Automation"
   ]
  },
  {
   "cell_type": "markdown",
   "id": "2355439b-afe1-4f0e-b6a1-72e008141876",
   "metadata": {},
   "source": [
    "There is nothing wrong with using ```print```,```input```, or the human-in-the-loop approach in general, *as long as* it makes sense for your program to be primarily based on interactions with a human user who can type in information, and interpret printed information using their eyes. \n",
    "\n",
    "However, this approach has limitations. For instance, we might want to do something over and over again while we are asleep, then wake up to find the result in the morning. We might want to have a script that downloads data automatically and preprocesses it before analyzing (e.g. if we are stock market analysts or bioinformatics researchers).\n",
    "\n",
    "In general, we want to think about how to *automate* our code in such a way that we don't need to be there to run it. Often this involves writing *functions* that can be called by other functions or scripts, when we are not there to call them. \n",
    "\n",
    "The two key ideas here are:\n",
    "* function inputs\n",
    "* return values \n",
    "\n",
    "Function inputs (also called arguments) occur in parentheses after the function name, indicating what needs to go into the function. A **return** statement tells what the function will give back, that can be returned as a variable. "
   ]
  },
  {
   "cell_type": "markdown",
   "id": "a9776dab-ca4b-4131-9a87-f8c949cb5bd3",
   "metadata": {},
   "source": [
    "## Examples of Writing Functions "
   ]
  },
  {
   "cell_type": "markdown",
   "id": "dbabef65-5081-4065-9e2c-5e2833dd072b",
   "metadata": {},
   "source": [
    "The following function is intended to calculate the Celsius temperature based on a given Fahrenheit temperature. "
   ]
  },
  {
   "cell_type": "code",
   "execution_count": 10,
   "id": "7e16f212-73f3-4cea-b88d-8b4f27c9990c",
   "metadata": {},
   "outputs": [],
   "source": [
    "def convert_to_celsius():\n",
    "    fahr_temp = int(input(\"What is the Fahrenheit temperature?\"))\n",
    "    cels_temp = 5/9*(fahr_temp - 32)\n",
    "    print(\"The temperature is \" + str(cels_temp) + \"\\n\")"
   ]
  },
  {
   "cell_type": "markdown",
   "id": "fd5dcc44-61ff-4116-95af-1706a7d85b5b",
   "metadata": {},
   "source": [
    "**You Try It:** \n",
    "1. Read the function ```convert_to_celsius```. Can you determine the equation relating Celsius to Fahrenheit?\n",
    "2. Try calling the function ```convert_to_celsius```. You will encounter a problem. Fix it. \n",
    "3. In the cell below write a function ```auto_convert_to_celsius``` that takes fahrenheit as an input variable, and **returns** the temperature (do not print it). "
   ]
  },
  {
   "cell_type": "code",
   "execution_count": 30,
   "id": "107a8333-81d5-4278-b7f4-e28445946df1",
   "metadata": {},
   "outputs": [
    {
     "name": "stdout",
     "output_type": "stream",
     "text": [
      "The temperature is -40.0\n",
      "\n"
     ]
    }
   ],
   "source": [
    "convert_to_celsius()"
   ]
  },
  {
   "cell_type": "code",
   "execution_count": 31,
   "id": "962aa99f",
   "metadata": {},
   "outputs": [
    {
     "data": {
      "text/plain": [
       "-40.0"
      ]
     },
     "execution_count": 31,
     "metadata": {},
     "output_type": "execute_result"
    }
   ],
   "source": [
    "# Normal way\n",
    "# write auto_convert_to_celsius here\n",
    "# def auto_convert_to_celsius(f_temp):\n",
    "#     return 5 / 9 * (f_temp - 32)\n",
    "\n",
    "# In a lambda function\n",
    "auto_convert_to_celsius = lambda f_temp : 5 / 9 * (f_temp - 32)"
   ]
  },
  {
   "cell_type": "code",
   "execution_count": null,
   "id": "d5f68021-b654-4be6-884b-34cd632da9eb",
   "metadata": {},
   "outputs": [],
   "source": [
    "def pos_or_neg():\n",
    "    your_num = int(input(\"What is your number?\"))\n",
    "    if your_num > 0:\n",
    "        print(\"Your number is positive.\")\n",
    "    elif your_num < 0:\n",
    "        print(\"Your number is negative.\")\n",
    "    else:\n",
    "        print(\"Your number is zero.\")\n"
   ]
  },
  {
   "cell_type": "markdown",
   "id": "8665525d-0465-4d0c-9f20-81577af567e4",
   "metadata": {},
   "source": [
    "**You Try It:** \n",
    "1. Read the function ```pos_or_neg```.\n",
    "2. There are a couple of problems with the function as written, even as a human-in-the-loop function. Fix them.  \n",
    "3. In the cell below write a function ```auto_pos_or_neg``` that takes a number as an input variable, and **returns** a string describing the number (do not print it). "
   ]
  },
  {
   "cell_type": "code",
   "execution_count": 26,
   "id": "7c5e438d-01db-417c-9a3b-6b8e096d7106",
   "metadata": {},
   "outputs": [
    {
     "name": "stdout",
     "output_type": "stream",
     "text": [
      "auto_pos_or_neg(-1): Your number is negative.\n",
      "auto_pos_or_neg(0): Your number is zero.\n",
      "auto_pos_or_neg(1): Your number is positive.\n"
     ]
    }
   ],
   "source": [
    "# Normal way\n",
    "# def auto_pos_or_neg(num):\n",
    "#     if num > 0:\n",
    "#         return \"Your number is positive.\"\n",
    "#     elif num < 0:\n",
    "#         return \"Your number is negative.\"\n",
    "#     else:\n",
    "#         return \"Your number is zero.\"\n",
    "\n",
    "# Shorter way\n",
    "# def auto_pos_or_neg(num):\n",
    "#     return 'Your number is positive.' if num > 0 else 'Your number is negative.' if num < 0 else 'Your number is zero.'\n",
    "\n",
    "# Even shorter way\n",
    "auto_pos_or_neg = lambda num : ((('Your number is zero.', 'Your number is negative.')[num < 0]), 'Your number is positive.')[num > 0]\n",
    "\n",
    "# Testing\n",
    "print('auto_pos_or_neg(-1):', auto_pos_or_neg(-1))\n",
    "print('auto_pos_or_neg(0):', auto_pos_or_neg(0))\n",
    "print('auto_pos_or_neg(1):', auto_pos_or_neg(1))"
   ]
  }
 ],
 "metadata": {
  "kernelspec": {
   "display_name": "Python 3.10.4 64-bit",
   "language": "python",
   "name": "python3"
  },
  "language_info": {
   "codemirror_mode": {
    "name": "ipython",
    "version": 3
   },
   "file_extension": ".py",
   "mimetype": "text/x-python",
   "name": "python",
   "nbconvert_exporter": "python",
   "pygments_lexer": "ipython3",
   "version": "3.10.4"
  },
  "vscode": {
   "interpreter": {
    "hash": "916dbcbb3f70747c44a77c7bcd40155683ae19c65e1c03b4aa3499c5328201f1"
   }
  }
 },
 "nbformat": 4,
 "nbformat_minor": 5
}
