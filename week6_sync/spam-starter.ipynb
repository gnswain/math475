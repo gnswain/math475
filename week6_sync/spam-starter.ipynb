{
 "cells": [
  {
   "cell_type": "markdown",
   "id": "53dcdff6-53f9-4241-a651-1e0a4e35eeee",
   "metadata": {},
   "source": [
    "# Parameters and Searching "
   ]
  },
  {
   "cell_type": "markdown",
   "id": "43e11543-82d7-4e60-9ae8-3d9066676634",
   "metadata": {},
   "source": [
    "## Build a Basic Decision Tree Model for Predicting Spam\n",
    "\n",
    "1. Download the spam.csv file\n",
    "2. Load the data into a dataframe pandas\n",
    "3. Process by dealing with missing values and non-numerical values\n",
    "4. Split into target and features\n",
    "5. Split into training and testing data\n",
    "6. Train model on the training data\n",
    "7. Find score on the testing data\n"
   ]
  },
  {
   "cell_type": "markdown",
   "id": "86092936-f67a-4cca-bddd-0038d9492fc1",
   "metadata": {},
   "source": [
    "## Adjusting Parameters\n",
    "\n",
    "Now we talk about some different parameters a Decision Tree classifier can have, and we write a function that tells us how score changes with those parameters. "
   ]
  },
  {
   "cell_type": "markdown",
   "id": "346ca0c0-7e4a-48b5-a637-0157fcd3c2a6",
   "metadata": {},
   "source": [
    "## We do the same thing, but with GridSearchCV"
   ]
  },
  {
   "cell_type": "markdown",
   "id": "d8984378-b0dc-49b1-a29f-05e77702b2c1",
   "metadata": {},
   "source": [
    "## Random Forests\n",
    "\n",
    "Now we introduce Random Forests, which are like groups of Decision Trees trained on subsets of the data. "
   ]
  },
  {
   "cell_type": "markdown",
   "id": "b11f10f1-5931-408e-b43d-116dc6e4eaaa",
   "metadata": {},
   "source": [
    "## Ensemble Classifiers "
   ]
  },
  {
   "cell_type": "code",
   "execution_count": null,
   "id": "1b0bbb9f-1eae-4b25-ace0-e66ac7128770",
   "metadata": {},
   "outputs": [],
   "source": []
  }
 ],
 "metadata": {
  "kernelspec": {
   "display_name": "Python 3 (ipykernel)",
   "language": "python",
   "name": "python3"
  },
  "language_info": {
   "codemirror_mode": {
    "name": "ipython",
    "version": 3
   },
   "file_extension": ".py",
   "mimetype": "text/x-python",
   "name": "python",
   "nbconvert_exporter": "python",
   "pygments_lexer": "ipython3",
   "version": "3.9.7"
  }
 },
 "nbformat": 4,
 "nbformat_minor": 5
}
