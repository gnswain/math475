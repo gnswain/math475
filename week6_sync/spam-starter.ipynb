{
 "cells": [
  {
   "cell_type": "markdown",
   "id": "53dcdff6-53f9-4241-a651-1e0a4e35eeee",
   "metadata": {},
   "source": [
    "# Parameters and Searching "
   ]
  },
  {
   "cell_type": "markdown",
   "id": "43e11543-82d7-4e60-9ae8-3d9066676634",
   "metadata": {},
   "source": [
    "## Build a Basic Decision Tree Model for Predicting Spam\n",
    "\n",
    "1. Download the spam.csv file\n",
    "2. Load the data into a dataframe pandas\n",
    "3. Process by dealing with missing values and non-numerical values\n",
    "4. Split into target and features\n",
    "5. Split into training and testing data\n",
    "6. Train DecisionTreeClassifier model on the training data\n",
    "7. Find score of DTC model on the testing data\n"
   ]
  },
  {
   "cell_type": "code",
   "execution_count": 1,
   "id": "e72cf53a",
   "metadata": {},
   "outputs": [],
   "source": [
    "import pandas as pd\n",
    "from sklearn.model_selection import train_test_split\n",
    "from sklearn.tree import DecisionTreeClassifier\n",
    "from sklearn.model_selection import GridSearchCV\n",
    "import seaborn as sns\n",
    "\n",
    "spam_df = pd.read_csv('./spam-data.csv')"
   ]
  },
  {
   "cell_type": "code",
   "execution_count": 2,
   "id": "9df8f197",
   "metadata": {},
   "outputs": [],
   "source": [
    "spam_df['capital_run_length_longest'] = spam_df['capital_run_length_total']\n",
    "spam_df['capital_run_length_total'] = spam_df['Unnamed: 56']\n",
    "\n",
    "spam_df.drop(columns = ['Unnamed: 56'], inplace = True)"
   ]
  },
  {
   "cell_type": "code",
   "execution_count": 3,
   "id": "66fb3a92",
   "metadata": {},
   "outputs": [
    {
     "name": "stdout",
     "output_type": "stream",
     "text": [
      "['word_freq_make' 'word_freq_address' 'word_freq_all' 'word_freq_3d'\n",
      " 'word_freq_our' 'word_freq_over' 'word_freq_remove' 'word_freq_internet'\n",
      " 'word_freq_order' 'word_freq_mail' 'word_freq_receive' 'word_freq_will'\n",
      " 'word_freq_people' 'word_freq_report' 'word_freq_addresses'\n",
      " 'word_freq_free' 'word_freq_business' 'word_freq_email' 'word_freq_you'\n",
      " 'word_freq_credit' 'word_freq_your' 'word_freq_font' 'word_freq_000'\n",
      " 'word_freq_money' 'word_freq_hp' 'word_freq_hpl' 'word_freq_george'\n",
      " 'word_freq_650' 'word_freq_lab' 'word_freq_labs' 'word_freq_telnet'\n",
      " 'word_freq_857' 'word_freq_data' 'word_freq_415' 'word_freq_85'\n",
      " 'word_freq_technology' 'word_freq_1999' 'word_freq_parts' 'word_freq_pm'\n",
      " 'word_freq_direct' 'word_freq_cs' 'word_freq_meeting'\n",
      " 'word_freq_original' 'word_freq_project' 'word_freq_re' 'word_freq_edu'\n",
      " 'word_freq_table' 'word_freq_conference' 'char_freq_:' 'char_freq_('\n",
      " 'char_freq_(.1' 'char_freq_!' 'char_freq_$' 'char_freq_#'\n",
      " 'capital_run_length_average' 'capital_run_length_total' 'spam'\n",
      " 'capital_run_length_longest']\n"
     ]
    }
   ],
   "source": [
    "print(spam_df.columns.values)"
   ]
  },
  {
   "cell_type": "code",
   "execution_count": 4,
   "id": "710ee2d6",
   "metadata": {},
   "outputs": [
    {
     "name": "stdout",
     "output_type": "stream",
     "text": [
      "\u001b[4mColumn                         | Missing Values\u001b[0m\n"
     ]
    }
   ],
   "source": [
    "print('\\033[4m%-30s | %s\\033[0m' % ('Column', 'Missing Values'))\n",
    "for c in spam_df.columns:\n",
    "    s = sum(spam_df[c].isna())\n",
    "    if (s > 0):\n",
    "        print('%-30s | %d' % (c, s))"
   ]
  },
  {
   "cell_type": "code",
   "execution_count": 5,
   "id": "50b6c0a2",
   "metadata": {},
   "outputs": [],
   "source": [
    "y = spam_df['spam']\n",
    "\n",
    "X = spam_df.drop(columns = ['spam'])"
   ]
  },
  {
   "cell_type": "code",
   "execution_count": 6,
   "id": "7b6f42db",
   "metadata": {},
   "outputs": [],
   "source": [
    "X_train, X_test, y_train, y_test = train_test_split(X, y, random_state = 39, test_size = .3)"
   ]
  },
  {
   "cell_type": "code",
   "execution_count": 7,
   "id": "12a3a678",
   "metadata": {},
   "outputs": [
    {
     "data": {
      "text/html": [
       "<style>#sk-container-id-1 {color: black;background-color: white;}#sk-container-id-1 pre{padding: 0;}#sk-container-id-1 div.sk-toggleable {background-color: white;}#sk-container-id-1 label.sk-toggleable__label {cursor: pointer;display: block;width: 100%;margin-bottom: 0;padding: 0.3em;box-sizing: border-box;text-align: center;}#sk-container-id-1 label.sk-toggleable__label-arrow:before {content: \"▸\";float: left;margin-right: 0.25em;color: #696969;}#sk-container-id-1 label.sk-toggleable__label-arrow:hover:before {color: black;}#sk-container-id-1 div.sk-estimator:hover label.sk-toggleable__label-arrow:before {color: black;}#sk-container-id-1 div.sk-toggleable__content {max-height: 0;max-width: 0;overflow: hidden;text-align: left;background-color: #f0f8ff;}#sk-container-id-1 div.sk-toggleable__content pre {margin: 0.2em;color: black;border-radius: 0.25em;background-color: #f0f8ff;}#sk-container-id-1 input.sk-toggleable__control:checked~div.sk-toggleable__content {max-height: 200px;max-width: 100%;overflow: auto;}#sk-container-id-1 input.sk-toggleable__control:checked~label.sk-toggleable__label-arrow:before {content: \"▾\";}#sk-container-id-1 div.sk-estimator input.sk-toggleable__control:checked~label.sk-toggleable__label {background-color: #d4ebff;}#sk-container-id-1 div.sk-label input.sk-toggleable__control:checked~label.sk-toggleable__label {background-color: #d4ebff;}#sk-container-id-1 input.sk-hidden--visually {border: 0;clip: rect(1px 1px 1px 1px);clip: rect(1px, 1px, 1px, 1px);height: 1px;margin: -1px;overflow: hidden;padding: 0;position: absolute;width: 1px;}#sk-container-id-1 div.sk-estimator {font-family: monospace;background-color: #f0f8ff;border: 1px dotted black;border-radius: 0.25em;box-sizing: border-box;margin-bottom: 0.5em;}#sk-container-id-1 div.sk-estimator:hover {background-color: #d4ebff;}#sk-container-id-1 div.sk-parallel-item::after {content: \"\";width: 100%;border-bottom: 1px solid gray;flex-grow: 1;}#sk-container-id-1 div.sk-label:hover label.sk-toggleable__label {background-color: #d4ebff;}#sk-container-id-1 div.sk-serial::before {content: \"\";position: absolute;border-left: 1px solid gray;box-sizing: border-box;top: 0;bottom: 0;left: 50%;z-index: 0;}#sk-container-id-1 div.sk-serial {display: flex;flex-direction: column;align-items: center;background-color: white;padding-right: 0.2em;padding-left: 0.2em;position: relative;}#sk-container-id-1 div.sk-item {position: relative;z-index: 1;}#sk-container-id-1 div.sk-parallel {display: flex;align-items: stretch;justify-content: center;background-color: white;position: relative;}#sk-container-id-1 div.sk-item::before, #sk-container-id-1 div.sk-parallel-item::before {content: \"\";position: absolute;border-left: 1px solid gray;box-sizing: border-box;top: 0;bottom: 0;left: 50%;z-index: -1;}#sk-container-id-1 div.sk-parallel-item {display: flex;flex-direction: column;z-index: 1;position: relative;background-color: white;}#sk-container-id-1 div.sk-parallel-item:first-child::after {align-self: flex-end;width: 50%;}#sk-container-id-1 div.sk-parallel-item:last-child::after {align-self: flex-start;width: 50%;}#sk-container-id-1 div.sk-parallel-item:only-child::after {width: 0;}#sk-container-id-1 div.sk-dashed-wrapped {border: 1px dashed gray;margin: 0 0.4em 0.5em 0.4em;box-sizing: border-box;padding-bottom: 0.4em;background-color: white;}#sk-container-id-1 div.sk-label label {font-family: monospace;font-weight: bold;display: inline-block;line-height: 1.2em;}#sk-container-id-1 div.sk-label-container {text-align: center;}#sk-container-id-1 div.sk-container {/* jupyter's `normalize.less` sets `[hidden] { display: none; }` but bootstrap.min.css set `[hidden] { display: none !important; }` so we also need the `!important` here to be able to override the default hidden behavior on the sphinx rendered scikit-learn.org. See: https://github.com/scikit-learn/scikit-learn/issues/21755 */display: inline-block !important;position: relative;}#sk-container-id-1 div.sk-text-repr-fallback {display: none;}</style><div id=\"sk-container-id-1\" class=\"sk-top-container\"><div class=\"sk-text-repr-fallback\"><pre>DecisionTreeClassifier()</pre><b>In a Jupyter environment, please rerun this cell to show the HTML representation or trust the notebook. <br />On GitHub, the HTML representation is unable to render, please try loading this page with nbviewer.org.</b></div><div class=\"sk-container\" hidden><div class=\"sk-item\"><div class=\"sk-estimator sk-toggleable\"><input class=\"sk-toggleable__control sk-hidden--visually\" id=\"sk-estimator-id-1\" type=\"checkbox\" checked><label for=\"sk-estimator-id-1\" class=\"sk-toggleable__label sk-toggleable__label-arrow\">DecisionTreeClassifier</label><div class=\"sk-toggleable__content\"><pre>DecisionTreeClassifier()</pre></div></div></div></div></div>"
      ],
      "text/plain": [
       "DecisionTreeClassifier()"
      ]
     },
     "execution_count": 7,
     "metadata": {},
     "output_type": "execute_result"
    }
   ],
   "source": [
    "DTC = DecisionTreeClassifier()\n",
    "DTC.fit(X_train, y_train)"
   ]
  },
  {
   "cell_type": "code",
   "execution_count": 8,
   "id": "cccba38a",
   "metadata": {},
   "outputs": [
    {
     "data": {
      "text/plain": [
       "0.9044170890658942"
      ]
     },
     "execution_count": 8,
     "metadata": {},
     "output_type": "execute_result"
    }
   ],
   "source": [
    "DTC.score(X_test, y_test)"
   ]
  },
  {
   "cell_type": "code",
   "execution_count": 20,
   "id": "03f2a5db",
   "metadata": {},
   "outputs": [
    {
     "data": {
      "text/plain": [
       "0.39404477287546186"
      ]
     },
     "execution_count": 20,
     "metadata": {},
     "output_type": "execute_result"
    }
   ],
   "source": [
    "spam_df['spam'].mean()"
   ]
  },
  {
   "cell_type": "markdown",
   "id": "86092936-f67a-4cca-bddd-0038d9492fc1",
   "metadata": {},
   "source": [
    "## Adjusting Parameters\n",
    "\n",
    "Now we talk about some different parameters a Decision Tree classifier can have, and we write a function that tells us how score changes with those parameters. "
   ]
  },
  {
   "cell_type": "code",
   "execution_count": 9,
   "id": "6e79c127",
   "metadata": {},
   "outputs": [
    {
     "data": {
      "text/plain": [
       "0.8957277335264301"
      ]
     },
     "execution_count": 9,
     "metadata": {},
     "output_type": "execute_result"
    }
   ],
   "source": [
    "DTC2 = DecisionTreeClassifier(random_state = 39, max_depth = 4)\n",
    "DTC2.fit(X_train, y_train)\n",
    "DTC2.score(X_test, y_test)"
   ]
  },
  {
   "cell_type": "code",
   "execution_count": 10,
   "id": "aa78b06c",
   "metadata": {},
   "outputs": [],
   "source": [
    "def depth_to_score(n, random = 39):\n",
    "    DTC_test = DecisionTreeClassifier(random_state = random, max_depth = n)\n",
    "    DTC_test.fit(X_train, y_train)\n",
    "    return DTC_test.score(X_test, y_test)"
   ]
  },
  {
   "cell_type": "code",
   "execution_count": 11,
   "id": "37e4cc51",
   "metadata": {},
   "outputs": [],
   "source": [
    "nums = range(1, 101)\n",
    "score = [depth_to_score(n) for n in nums]"
   ]
  },
  {
   "cell_type": "code",
   "execution_count": 12,
   "id": "75cdea5b",
   "metadata": {},
   "outputs": [],
   "source": [
    "score_df = pd.DataFrame({\"depth\": nums, \"score\": score})"
   ]
  },
  {
   "cell_type": "code",
   "execution_count": 13,
   "metadata": {},
   "outputs": [
    {
     "data": {
      "text/html": [
       "<div>\n",
       "<style scoped>\n",
       "    .dataframe tbody tr th:only-of-type {\n",
       "        vertical-align: middle;\n",
       "    }\n",
       "\n",
       "    .dataframe tbody tr th {\n",
       "        vertical-align: top;\n",
       "    }\n",
       "\n",
       "    .dataframe thead th {\n",
       "        text-align: right;\n",
       "    }\n",
       "</style>\n",
       "<table border=\"1\" class=\"dataframe\">\n",
       "  <thead>\n",
       "    <tr style=\"text-align: right;\">\n",
       "      <th></th>\n",
       "      <th>depth</th>\n",
       "      <th>score</th>\n",
       "    </tr>\n",
       "  </thead>\n",
       "  <tbody>\n",
       "    <tr>\n",
       "      <th>0</th>\n",
       "      <td>1</td>\n",
       "      <td>0.778421</td>\n",
       "    </tr>\n",
       "    <tr>\n",
       "      <th>1</th>\n",
       "      <td>2</td>\n",
       "      <td>0.849385</td>\n",
       "    </tr>\n",
       "    <tr>\n",
       "      <th>2</th>\n",
       "      <td>3</td>\n",
       "      <td>0.854453</td>\n",
       "    </tr>\n",
       "    <tr>\n",
       "      <th>3</th>\n",
       "      <td>4</td>\n",
       "      <td>0.895728</td>\n",
       "    </tr>\n",
       "    <tr>\n",
       "      <th>4</th>\n",
       "      <td>5</td>\n",
       "      <td>0.906589</td>\n",
       "    </tr>\n",
       "  </tbody>\n",
       "</table>\n",
       "</div>"
      ],
      "text/plain": [
       "   depth     score\n",
       "0      1  0.778421\n",
       "1      2  0.849385\n",
       "2      3  0.854453\n",
       "3      4  0.895728\n",
       "4      5  0.906589"
      ]
     },
     "execution_count": 13,
     "metadata": {},
     "output_type": "execute_result"
    }
   ],
   "source": [
    "score_df.head()"
   ]
  },
  {
   "cell_type": "markdown",
   "id": "346ca0c0-7e4a-48b5-a637-0157fcd3c2a6",
   "metadata": {},
   "source": [
    "## We do the same thing, but with GridSearchCV"
   ]
  },
  {
   "cell_type": "code",
   "execution_count": 14,
   "id": "656b83a9",
   "metadata": {},
   "outputs": [],
   "source": [
    "parameters = {'criterion': ('gini', 'entropy', 'log_loss'), 'max_depth': nums}\n",
    "my_DTC = DecisionTreeClassifier()\n",
    "\n",
    "clf = GridSearchCV(my_DTC, parameters)"
   ]
  },
  {
   "cell_type": "code",
   "execution_count": 15,
   "id": "6c2a99a4",
   "metadata": {},
   "outputs": [
    {
     "data": {
      "text/html": [
       "<style>#sk-container-id-2 {color: black;background-color: white;}#sk-container-id-2 pre{padding: 0;}#sk-container-id-2 div.sk-toggleable {background-color: white;}#sk-container-id-2 label.sk-toggleable__label {cursor: pointer;display: block;width: 100%;margin-bottom: 0;padding: 0.3em;box-sizing: border-box;text-align: center;}#sk-container-id-2 label.sk-toggleable__label-arrow:before {content: \"▸\";float: left;margin-right: 0.25em;color: #696969;}#sk-container-id-2 label.sk-toggleable__label-arrow:hover:before {color: black;}#sk-container-id-2 div.sk-estimator:hover label.sk-toggleable__label-arrow:before {color: black;}#sk-container-id-2 div.sk-toggleable__content {max-height: 0;max-width: 0;overflow: hidden;text-align: left;background-color: #f0f8ff;}#sk-container-id-2 div.sk-toggleable__content pre {margin: 0.2em;color: black;border-radius: 0.25em;background-color: #f0f8ff;}#sk-container-id-2 input.sk-toggleable__control:checked~div.sk-toggleable__content {max-height: 200px;max-width: 100%;overflow: auto;}#sk-container-id-2 input.sk-toggleable__control:checked~label.sk-toggleable__label-arrow:before {content: \"▾\";}#sk-container-id-2 div.sk-estimator input.sk-toggleable__control:checked~label.sk-toggleable__label {background-color: #d4ebff;}#sk-container-id-2 div.sk-label input.sk-toggleable__control:checked~label.sk-toggleable__label {background-color: #d4ebff;}#sk-container-id-2 input.sk-hidden--visually {border: 0;clip: rect(1px 1px 1px 1px);clip: rect(1px, 1px, 1px, 1px);height: 1px;margin: -1px;overflow: hidden;padding: 0;position: absolute;width: 1px;}#sk-container-id-2 div.sk-estimator {font-family: monospace;background-color: #f0f8ff;border: 1px dotted black;border-radius: 0.25em;box-sizing: border-box;margin-bottom: 0.5em;}#sk-container-id-2 div.sk-estimator:hover {background-color: #d4ebff;}#sk-container-id-2 div.sk-parallel-item::after {content: \"\";width: 100%;border-bottom: 1px solid gray;flex-grow: 1;}#sk-container-id-2 div.sk-label:hover label.sk-toggleable__label {background-color: #d4ebff;}#sk-container-id-2 div.sk-serial::before {content: \"\";position: absolute;border-left: 1px solid gray;box-sizing: border-box;top: 0;bottom: 0;left: 50%;z-index: 0;}#sk-container-id-2 div.sk-serial {display: flex;flex-direction: column;align-items: center;background-color: white;padding-right: 0.2em;padding-left: 0.2em;position: relative;}#sk-container-id-2 div.sk-item {position: relative;z-index: 1;}#sk-container-id-2 div.sk-parallel {display: flex;align-items: stretch;justify-content: center;background-color: white;position: relative;}#sk-container-id-2 div.sk-item::before, #sk-container-id-2 div.sk-parallel-item::before {content: \"\";position: absolute;border-left: 1px solid gray;box-sizing: border-box;top: 0;bottom: 0;left: 50%;z-index: -1;}#sk-container-id-2 div.sk-parallel-item {display: flex;flex-direction: column;z-index: 1;position: relative;background-color: white;}#sk-container-id-2 div.sk-parallel-item:first-child::after {align-self: flex-end;width: 50%;}#sk-container-id-2 div.sk-parallel-item:last-child::after {align-self: flex-start;width: 50%;}#sk-container-id-2 div.sk-parallel-item:only-child::after {width: 0;}#sk-container-id-2 div.sk-dashed-wrapped {border: 1px dashed gray;margin: 0 0.4em 0.5em 0.4em;box-sizing: border-box;padding-bottom: 0.4em;background-color: white;}#sk-container-id-2 div.sk-label label {font-family: monospace;font-weight: bold;display: inline-block;line-height: 1.2em;}#sk-container-id-2 div.sk-label-container {text-align: center;}#sk-container-id-2 div.sk-container {/* jupyter's `normalize.less` sets `[hidden] { display: none; }` but bootstrap.min.css set `[hidden] { display: none !important; }` so we also need the `!important` here to be able to override the default hidden behavior on the sphinx rendered scikit-learn.org. See: https://github.com/scikit-learn/scikit-learn/issues/21755 */display: inline-block !important;position: relative;}#sk-container-id-2 div.sk-text-repr-fallback {display: none;}</style><div id=\"sk-container-id-2\" class=\"sk-top-container\"><div class=\"sk-text-repr-fallback\"><pre>GridSearchCV(estimator=DecisionTreeClassifier(),\n",
       "             param_grid={&#x27;criterion&#x27;: (&#x27;gini&#x27;, &#x27;entropy&#x27;, &#x27;log_loss&#x27;),\n",
       "                         &#x27;max_depth&#x27;: range(1, 101)})</pre><b>In a Jupyter environment, please rerun this cell to show the HTML representation or trust the notebook. <br />On GitHub, the HTML representation is unable to render, please try loading this page with nbviewer.org.</b></div><div class=\"sk-container\" hidden><div class=\"sk-item sk-dashed-wrapped\"><div class=\"sk-label-container\"><div class=\"sk-label sk-toggleable\"><input class=\"sk-toggleable__control sk-hidden--visually\" id=\"sk-estimator-id-2\" type=\"checkbox\" ><label for=\"sk-estimator-id-2\" class=\"sk-toggleable__label sk-toggleable__label-arrow\">GridSearchCV</label><div class=\"sk-toggleable__content\"><pre>GridSearchCV(estimator=DecisionTreeClassifier(),\n",
       "             param_grid={&#x27;criterion&#x27;: (&#x27;gini&#x27;, &#x27;entropy&#x27;, &#x27;log_loss&#x27;),\n",
       "                         &#x27;max_depth&#x27;: range(1, 101)})</pre></div></div></div><div class=\"sk-parallel\"><div class=\"sk-parallel-item\"><div class=\"sk-item\"><div class=\"sk-label-container\"><div class=\"sk-label sk-toggleable\"><input class=\"sk-toggleable__control sk-hidden--visually\" id=\"sk-estimator-id-3\" type=\"checkbox\" ><label for=\"sk-estimator-id-3\" class=\"sk-toggleable__label sk-toggleable__label-arrow\">estimator: DecisionTreeClassifier</label><div class=\"sk-toggleable__content\"><pre>DecisionTreeClassifier()</pre></div></div></div><div class=\"sk-serial\"><div class=\"sk-item\"><div class=\"sk-estimator sk-toggleable\"><input class=\"sk-toggleable__control sk-hidden--visually\" id=\"sk-estimator-id-4\" type=\"checkbox\" ><label for=\"sk-estimator-id-4\" class=\"sk-toggleable__label sk-toggleable__label-arrow\">DecisionTreeClassifier</label><div class=\"sk-toggleable__content\"><pre>DecisionTreeClassifier()</pre></div></div></div></div></div></div></div></div></div></div>"
      ],
      "text/plain": [
       "GridSearchCV(estimator=DecisionTreeClassifier(),\n",
       "             param_grid={'criterion': ('gini', 'entropy', 'log_loss'),\n",
       "                         'max_depth': range(1, 101)})"
      ]
     },
     "execution_count": 15,
     "metadata": {},
     "output_type": "execute_result"
    }
   ],
   "source": [
    "clf.fit(X, y)"
   ]
  },
  {
   "cell_type": "code",
   "execution_count": 16,
   "id": "2fbf8ae2",
   "metadata": {},
   "outputs": [
    {
     "data": {
      "text/html": [
       "<div>\n",
       "<style scoped>\n",
       "    .dataframe tbody tr th:only-of-type {\n",
       "        vertical-align: middle;\n",
       "    }\n",
       "\n",
       "    .dataframe tbody tr th {\n",
       "        vertical-align: top;\n",
       "    }\n",
       "\n",
       "    .dataframe thead th {\n",
       "        text-align: right;\n",
       "    }\n",
       "</style>\n",
       "<table border=\"1\" class=\"dataframe\">\n",
       "  <thead>\n",
       "    <tr style=\"text-align: right;\">\n",
       "      <th></th>\n",
       "      <th>mean_fit_time</th>\n",
       "      <th>std_fit_time</th>\n",
       "      <th>mean_score_time</th>\n",
       "      <th>std_score_time</th>\n",
       "      <th>param_criterion</th>\n",
       "      <th>param_max_depth</th>\n",
       "      <th>params</th>\n",
       "      <th>split0_test_score</th>\n",
       "      <th>split1_test_score</th>\n",
       "      <th>split2_test_score</th>\n",
       "      <th>split3_test_score</th>\n",
       "      <th>split4_test_score</th>\n",
       "      <th>mean_test_score</th>\n",
       "      <th>std_test_score</th>\n",
       "      <th>rank_test_score</th>\n",
       "    </tr>\n",
       "  </thead>\n",
       "  <tbody>\n",
       "    <tr>\n",
       "      <th>0</th>\n",
       "      <td>0.008689</td>\n",
       "      <td>0.002332</td>\n",
       "      <td>0.001756</td>\n",
       "      <td>0.000471</td>\n",
       "      <td>gini</td>\n",
       "      <td>1</td>\n",
       "      <td>{'criterion': 'gini', 'max_depth': 1}</td>\n",
       "      <td>0.768730</td>\n",
       "      <td>0.804348</td>\n",
       "      <td>0.806522</td>\n",
       "      <td>0.819565</td>\n",
       "      <td>0.676087</td>\n",
       "      <td>0.775050</td>\n",
       "      <td>0.052276</td>\n",
       "      <td>298</td>\n",
       "    </tr>\n",
       "    <tr>\n",
       "      <th>1</th>\n",
       "      <td>0.010841</td>\n",
       "      <td>0.000575</td>\n",
       "      <td>0.001490</td>\n",
       "      <td>0.000181</td>\n",
       "      <td>gini</td>\n",
       "      <td>2</td>\n",
       "      <td>{'criterion': 'gini', 'max_depth': 2}</td>\n",
       "      <td>0.850163</td>\n",
       "      <td>0.869565</td>\n",
       "      <td>0.882609</td>\n",
       "      <td>0.888043</td>\n",
       "      <td>0.714130</td>\n",
       "      <td>0.840902</td>\n",
       "      <td>0.064715</td>\n",
       "      <td>295</td>\n",
       "    </tr>\n",
       "    <tr>\n",
       "      <th>2</th>\n",
       "      <td>0.013699</td>\n",
       "      <td>0.000256</td>\n",
       "      <td>0.001453</td>\n",
       "      <td>0.000039</td>\n",
       "      <td>gini</td>\n",
       "      <td>3</td>\n",
       "      <td>{'criterion': 'gini', 'max_depth': 3}</td>\n",
       "      <td>0.855592</td>\n",
       "      <td>0.884783</td>\n",
       "      <td>0.897826</td>\n",
       "      <td>0.915217</td>\n",
       "      <td>0.794565</td>\n",
       "      <td>0.869597</td>\n",
       "      <td>0.042272</td>\n",
       "      <td>292</td>\n",
       "    </tr>\n",
       "    <tr>\n",
       "      <th>3</th>\n",
       "      <td>0.016716</td>\n",
       "      <td>0.000074</td>\n",
       "      <td>0.001388</td>\n",
       "      <td>0.000020</td>\n",
       "      <td>gini</td>\n",
       "      <td>4</td>\n",
       "      <td>{'criterion': 'gini', 'max_depth': 4}</td>\n",
       "      <td>0.894680</td>\n",
       "      <td>0.898913</td>\n",
       "      <td>0.907609</td>\n",
       "      <td>0.906522</td>\n",
       "      <td>0.801087</td>\n",
       "      <td>0.881762</td>\n",
       "      <td>0.040622</td>\n",
       "      <td>254</td>\n",
       "    </tr>\n",
       "    <tr>\n",
       "      <th>4</th>\n",
       "      <td>0.019382</td>\n",
       "      <td>0.000353</td>\n",
       "      <td>0.001393</td>\n",
       "      <td>0.000047</td>\n",
       "      <td>gini</td>\n",
       "      <td>5</td>\n",
       "      <td>{'criterion': 'gini', 'max_depth': 5}</td>\n",
       "      <td>0.903366</td>\n",
       "      <td>0.906522</td>\n",
       "      <td>0.906522</td>\n",
       "      <td>0.923913</td>\n",
       "      <td>0.810870</td>\n",
       "      <td>0.890238</td>\n",
       "      <td>0.040339</td>\n",
       "      <td>198</td>\n",
       "    </tr>\n",
       "  </tbody>\n",
       "</table>\n",
       "</div>"
      ],
      "text/plain": [
       "   mean_fit_time  std_fit_time  mean_score_time  std_score_time  \\\n",
       "0       0.008689      0.002332         0.001756        0.000471   \n",
       "1       0.010841      0.000575         0.001490        0.000181   \n",
       "2       0.013699      0.000256         0.001453        0.000039   \n",
       "3       0.016716      0.000074         0.001388        0.000020   \n",
       "4       0.019382      0.000353         0.001393        0.000047   \n",
       "\n",
       "  param_criterion param_max_depth                                 params  \\\n",
       "0            gini               1  {'criterion': 'gini', 'max_depth': 1}   \n",
       "1            gini               2  {'criterion': 'gini', 'max_depth': 2}   \n",
       "2            gini               3  {'criterion': 'gini', 'max_depth': 3}   \n",
       "3            gini               4  {'criterion': 'gini', 'max_depth': 4}   \n",
       "4            gini               5  {'criterion': 'gini', 'max_depth': 5}   \n",
       "\n",
       "   split0_test_score  split1_test_score  split2_test_score  split3_test_score  \\\n",
       "0           0.768730           0.804348           0.806522           0.819565   \n",
       "1           0.850163           0.869565           0.882609           0.888043   \n",
       "2           0.855592           0.884783           0.897826           0.915217   \n",
       "3           0.894680           0.898913           0.907609           0.906522   \n",
       "4           0.903366           0.906522           0.906522           0.923913   \n",
       "\n",
       "   split4_test_score  mean_test_score  std_test_score  rank_test_score  \n",
       "0           0.676087         0.775050        0.052276              298  \n",
       "1           0.714130         0.840902        0.064715              295  \n",
       "2           0.794565         0.869597        0.042272              292  \n",
       "3           0.801087         0.881762        0.040622              254  \n",
       "4           0.810870         0.890238        0.040339              198  "
      ]
     },
     "execution_count": 16,
     "metadata": {},
     "output_type": "execute_result"
    }
   ],
   "source": [
    "results_df = pd.DataFrame(clf.cv_results_)\n",
    "results_df.head()"
   ]
  },
  {
   "cell_type": "code",
   "execution_count": 17,
   "id": "e307cbcb",
   "metadata": {},
   "outputs": [
    {
     "data": {
      "text/plain": [
       "<AxesSubplot:xlabel='param_max_depth', ylabel='mean_test_score'>"
      ]
     },
     "execution_count": 17,
     "metadata": {},
     "output_type": "execute_result"
    },
    {
     "data": {
      "image/png": "[encoded data removed]",
      "text/plain": [
       "<Figure size 640x480 with 1 Axes>"
      ]
     },
     "metadata": {},
     "output_type": "display_data"
    }
   ],
   "source": [
    "sns.scatterplot(results_df, x = 'param_max_depth', y = 'mean_test_score', hue = 'param_criterion')"
   ]
  },
  {
   "cell_type": "code",
   "execution_count": 18,
   "id": "bad902c2",
   "metadata": {},
   "outputs": [
    {
     "data": {
      "text/plain": [
       "<AxesSubplot:xlabel='param_max_depth', ylabel='mean_fit_time'>"
      ]
     },
     "execution_count": 18,
     "metadata": {},
     "output_type": "execute_result"
    },
    {
     "data": {
      "image/png": "[encoded data removed]",
      "text/plain": [
       "<Figure size 640x480 with 1 Axes>"
      ]
     },
     "metadata": {},
     "output_type": "display_data"
    }
   ],
   "source": [
    "sns.scatterplot(results_df, x = 'param_max_depth', y = 'mean_fit_time', hue = 'param_criterion')"
   ]
  },
  {
   "cell_type": "markdown",
   "id": "d8984378-b0dc-49b1-a29f-05e77702b2c1",
   "metadata": {},
   "source": [
    "## Random Forests\n",
    "\n",
    "Now we introduce Random Forests, which are like groups of Decision Trees trained on subsets of the data. "
   ]
  },
  {
   "cell_type": "markdown",
   "id": "dd998e69",
   "metadata": {},
   "source": [
    "1. Split training data into random samples (smaller subsets of original)\n",
    "2. Give each sample to train a different decision tree\n",
    "3. to predict, take the majority vote of the decision trained decisions trees"
   ]
  },
  {
   "cell_type": "markdown",
   "id": "b11f10f1-5931-408e-b43d-116dc6e4eaaa",
   "metadata": {},
   "source": [
    "## Ensemble Classifiers "
   ]
  },
  {
   "cell_type": "markdown",
   "id": "83eb3074",
   "metadata": {},
   "source": [
    "- uses a 'team' of classifiers combine individual predictions (in some way) to make the final production"
   ]
  },
  {
   "cell_type": "code",
   "execution_count": 19,
   "id": "1b0bbb9f-1eae-4b25-ace0-e66ac7128770",
   "metadata": {},
   "outputs": [
    {
     "data": {
      "text/html": [
       "<div>\n",
       "<style scoped>\n",
       "    .dataframe tbody tr th:only-of-type {\n",
       "        vertical-align: middle;\n",
       "    }\n",
       "\n",
       "    .dataframe tbody tr th {\n",
       "        vertical-align: top;\n",
       "    }\n",
       "\n",
       "    .dataframe thead th {\n",
       "        text-align: right;\n",
       "    }\n",
       "</style>\n",
       "<table border=\"1\" class=\"dataframe\">\n",
       "  <thead>\n",
       "    <tr style=\"text-align: right;\">\n",
       "      <th></th>\n",
       "      <th>word_freq_make</th>\n",
       "      <th>word_freq_address</th>\n",
       "      <th>word_freq_all</th>\n",
       "      <th>word_freq_3d</th>\n",
       "      <th>word_freq_our</th>\n",
       "      <th>word_freq_over</th>\n",
       "      <th>word_freq_remove</th>\n",
       "      <th>word_freq_internet</th>\n",
       "      <th>word_freq_order</th>\n",
       "      <th>word_freq_mail</th>\n",
       "      <th>...</th>\n",
       "      <th>char_freq_:</th>\n",
       "      <th>char_freq_(</th>\n",
       "      <th>char_freq_(.1</th>\n",
       "      <th>char_freq_!</th>\n",
       "      <th>char_freq_$</th>\n",
       "      <th>char_freq_#</th>\n",
       "      <th>capital_run_length_average</th>\n",
       "      <th>capital_run_length_total</th>\n",
       "      <th>spam</th>\n",
       "      <th>capital_run_length_longest</th>\n",
       "    </tr>\n",
       "  </thead>\n",
       "  <tbody>\n",
       "    <tr>\n",
       "      <th>0</th>\n",
       "      <td>0.00</td>\n",
       "      <td>0.64</td>\n",
       "      <td>0.64</td>\n",
       "      <td>0.0</td>\n",
       "      <td>0.32</td>\n",
       "      <td>0.00</td>\n",
       "      <td>0.00</td>\n",
       "      <td>0.00</td>\n",
       "      <td>0.00</td>\n",
       "      <td>0.00</td>\n",
       "      <td>...</td>\n",
       "      <td>0.000</td>\n",
       "      <td>0.000</td>\n",
       "      <td>0.0</td>\n",
       "      <td>0.778</td>\n",
       "      <td>0.000</td>\n",
       "      <td>0.000</td>\n",
       "      <td>3.756</td>\n",
       "      <td>278</td>\n",
       "      <td>1</td>\n",
       "      <td>61</td>\n",
       "    </tr>\n",
       "    <tr>\n",
       "      <th>1</th>\n",
       "      <td>0.21</td>\n",
       "      <td>0.28</td>\n",
       "      <td>0.50</td>\n",
       "      <td>0.0</td>\n",
       "      <td>0.14</td>\n",
       "      <td>0.28</td>\n",
       "      <td>0.21</td>\n",
       "      <td>0.07</td>\n",
       "      <td>0.00</td>\n",
       "      <td>0.94</td>\n",
       "      <td>...</td>\n",
       "      <td>0.000</td>\n",
       "      <td>0.132</td>\n",
       "      <td>0.0</td>\n",
       "      <td>0.372</td>\n",
       "      <td>0.180</td>\n",
       "      <td>0.048</td>\n",
       "      <td>5.114</td>\n",
       "      <td>1028</td>\n",
       "      <td>1</td>\n",
       "      <td>101</td>\n",
       "    </tr>\n",
       "    <tr>\n",
       "      <th>2</th>\n",
       "      <td>0.06</td>\n",
       "      <td>0.00</td>\n",
       "      <td>0.71</td>\n",
       "      <td>0.0</td>\n",
       "      <td>1.23</td>\n",
       "      <td>0.19</td>\n",
       "      <td>0.19</td>\n",
       "      <td>0.12</td>\n",
       "      <td>0.64</td>\n",
       "      <td>0.25</td>\n",
       "      <td>...</td>\n",
       "      <td>0.010</td>\n",
       "      <td>0.143</td>\n",
       "      <td>0.0</td>\n",
       "      <td>0.276</td>\n",
       "      <td>0.184</td>\n",
       "      <td>0.010</td>\n",
       "      <td>9.821</td>\n",
       "      <td>2259</td>\n",
       "      <td>1</td>\n",
       "      <td>485</td>\n",
       "    </tr>\n",
       "    <tr>\n",
       "      <th>3</th>\n",
       "      <td>0.00</td>\n",
       "      <td>0.00</td>\n",
       "      <td>0.00</td>\n",
       "      <td>0.0</td>\n",
       "      <td>0.63</td>\n",
       "      <td>0.00</td>\n",
       "      <td>0.31</td>\n",
       "      <td>0.63</td>\n",
       "      <td>0.31</td>\n",
       "      <td>0.63</td>\n",
       "      <td>...</td>\n",
       "      <td>0.000</td>\n",
       "      <td>0.137</td>\n",
       "      <td>0.0</td>\n",
       "      <td>0.137</td>\n",
       "      <td>0.000</td>\n",
       "      <td>0.000</td>\n",
       "      <td>3.537</td>\n",
       "      <td>191</td>\n",
       "      <td>1</td>\n",
       "      <td>40</td>\n",
       "    </tr>\n",
       "    <tr>\n",
       "      <th>4</th>\n",
       "      <td>0.00</td>\n",
       "      <td>0.00</td>\n",
       "      <td>0.00</td>\n",
       "      <td>0.0</td>\n",
       "      <td>0.63</td>\n",
       "      <td>0.00</td>\n",
       "      <td>0.31</td>\n",
       "      <td>0.63</td>\n",
       "      <td>0.31</td>\n",
       "      <td>0.63</td>\n",
       "      <td>...</td>\n",
       "      <td>0.000</td>\n",
       "      <td>0.135</td>\n",
       "      <td>0.0</td>\n",
       "      <td>0.135</td>\n",
       "      <td>0.000</td>\n",
       "      <td>0.000</td>\n",
       "      <td>3.537</td>\n",
       "      <td>191</td>\n",
       "      <td>1</td>\n",
       "      <td>40</td>\n",
       "    </tr>\n",
       "    <tr>\n",
       "      <th>...</th>\n",
       "      <td>...</td>\n",
       "      <td>...</td>\n",
       "      <td>...</td>\n",
       "      <td>...</td>\n",
       "      <td>...</td>\n",
       "      <td>...</td>\n",
       "      <td>...</td>\n",
       "      <td>...</td>\n",
       "      <td>...</td>\n",
       "      <td>...</td>\n",
       "      <td>...</td>\n",
       "      <td>...</td>\n",
       "      <td>...</td>\n",
       "      <td>...</td>\n",
       "      <td>...</td>\n",
       "      <td>...</td>\n",
       "      <td>...</td>\n",
       "      <td>...</td>\n",
       "      <td>...</td>\n",
       "      <td>...</td>\n",
       "      <td>...</td>\n",
       "    </tr>\n",
       "    <tr>\n",
       "      <th>4596</th>\n",
       "      <td>0.31</td>\n",
       "      <td>0.00</td>\n",
       "      <td>0.62</td>\n",
       "      <td>0.0</td>\n",
       "      <td>0.00</td>\n",
       "      <td>0.31</td>\n",
       "      <td>0.00</td>\n",
       "      <td>0.00</td>\n",
       "      <td>0.00</td>\n",
       "      <td>0.00</td>\n",
       "      <td>...</td>\n",
       "      <td>0.000</td>\n",
       "      <td>0.232</td>\n",
       "      <td>0.0</td>\n",
       "      <td>0.000</td>\n",
       "      <td>0.000</td>\n",
       "      <td>0.000</td>\n",
       "      <td>1.142</td>\n",
       "      <td>88</td>\n",
       "      <td>0</td>\n",
       "      <td>3</td>\n",
       "    </tr>\n",
       "    <tr>\n",
       "      <th>4597</th>\n",
       "      <td>0.00</td>\n",
       "      <td>0.00</td>\n",
       "      <td>0.00</td>\n",
       "      <td>0.0</td>\n",
       "      <td>0.00</td>\n",
       "      <td>0.00</td>\n",
       "      <td>0.00</td>\n",
       "      <td>0.00</td>\n",
       "      <td>0.00</td>\n",
       "      <td>0.00</td>\n",
       "      <td>...</td>\n",
       "      <td>0.000</td>\n",
       "      <td>0.000</td>\n",
       "      <td>0.0</td>\n",
       "      <td>0.353</td>\n",
       "      <td>0.000</td>\n",
       "      <td>0.000</td>\n",
       "      <td>1.555</td>\n",
       "      <td>14</td>\n",
       "      <td>0</td>\n",
       "      <td>4</td>\n",
       "    </tr>\n",
       "    <tr>\n",
       "      <th>4598</th>\n",
       "      <td>0.30</td>\n",
       "      <td>0.00</td>\n",
       "      <td>0.30</td>\n",
       "      <td>0.0</td>\n",
       "      <td>0.00</td>\n",
       "      <td>0.00</td>\n",
       "      <td>0.00</td>\n",
       "      <td>0.00</td>\n",
       "      <td>0.00</td>\n",
       "      <td>0.00</td>\n",
       "      <td>...</td>\n",
       "      <td>0.102</td>\n",
       "      <td>0.718</td>\n",
       "      <td>0.0</td>\n",
       "      <td>0.000</td>\n",
       "      <td>0.000</td>\n",
       "      <td>0.000</td>\n",
       "      <td>1.404</td>\n",
       "      <td>118</td>\n",
       "      <td>0</td>\n",
       "      <td>6</td>\n",
       "    </tr>\n",
       "    <tr>\n",
       "      <th>4599</th>\n",
       "      <td>0.96</td>\n",
       "      <td>0.00</td>\n",
       "      <td>0.00</td>\n",
       "      <td>0.0</td>\n",
       "      <td>0.32</td>\n",
       "      <td>0.00</td>\n",
       "      <td>0.00</td>\n",
       "      <td>0.00</td>\n",
       "      <td>0.00</td>\n",
       "      <td>0.00</td>\n",
       "      <td>...</td>\n",
       "      <td>0.000</td>\n",
       "      <td>0.057</td>\n",
       "      <td>0.0</td>\n",
       "      <td>0.000</td>\n",
       "      <td>0.000</td>\n",
       "      <td>0.000</td>\n",
       "      <td>1.147</td>\n",
       "      <td>78</td>\n",
       "      <td>0</td>\n",
       "      <td>5</td>\n",
       "    </tr>\n",
       "    <tr>\n",
       "      <th>4600</th>\n",
       "      <td>0.00</td>\n",
       "      <td>0.00</td>\n",
       "      <td>0.65</td>\n",
       "      <td>0.0</td>\n",
       "      <td>0.00</td>\n",
       "      <td>0.00</td>\n",
       "      <td>0.00</td>\n",
       "      <td>0.00</td>\n",
       "      <td>0.00</td>\n",
       "      <td>0.00</td>\n",
       "      <td>...</td>\n",
       "      <td>0.000</td>\n",
       "      <td>0.000</td>\n",
       "      <td>0.0</td>\n",
       "      <td>0.125</td>\n",
       "      <td>0.000</td>\n",
       "      <td>0.000</td>\n",
       "      <td>1.250</td>\n",
       "      <td>40</td>\n",
       "      <td>0</td>\n",
       "      <td>5</td>\n",
       "    </tr>\n",
       "  </tbody>\n",
       "</table>\n",
       "<p>4601 rows × 58 columns</p>\n",
       "</div>"
      ],
      "text/plain": [
       "      word_freq_make  word_freq_address  word_freq_all  word_freq_3d  \\\n",
       "0               0.00               0.64           0.64           0.0   \n",
       "1               0.21               0.28           0.50           0.0   \n",
       "2               0.06               0.00           0.71           0.0   \n",
       "3               0.00               0.00           0.00           0.0   \n",
       "4               0.00               0.00           0.00           0.0   \n",
       "...              ...                ...            ...           ...   \n",
       "4596            0.31               0.00           0.62           0.0   \n",
       "4597            0.00               0.00           0.00           0.0   \n",
       "4598            0.30               0.00           0.30           0.0   \n",
       "4599            0.96               0.00           0.00           0.0   \n",
       "4600            0.00               0.00           0.65           0.0   \n",
       "\n",
       "      word_freq_our  word_freq_over  word_freq_remove  word_freq_internet  \\\n",
       "0              0.32            0.00              0.00                0.00   \n",
       "1              0.14            0.28              0.21                0.07   \n",
       "2              1.23            0.19              0.19                0.12   \n",
       "3              0.63            0.00              0.31                0.63   \n",
       "4              0.63            0.00              0.31                0.63   \n",
       "...             ...             ...               ...                 ...   \n",
       "4596           0.00            0.31              0.00                0.00   \n",
       "4597           0.00            0.00              0.00                0.00   \n",
       "4598           0.00            0.00              0.00                0.00   \n",
       "4599           0.32            0.00              0.00                0.00   \n",
       "4600           0.00            0.00              0.00                0.00   \n",
       "\n",
       "      word_freq_order  word_freq_mail  ...  char_freq_:  char_freq_(  \\\n",
       "0                0.00            0.00  ...        0.000        0.000   \n",
       "1                0.00            0.94  ...        0.000        0.132   \n",
       "2                0.64            0.25  ...        0.010        0.143   \n",
       "3                0.31            0.63  ...        0.000        0.137   \n",
       "4                0.31            0.63  ...        0.000        0.135   \n",
       "...               ...             ...  ...          ...          ...   \n",
       "4596             0.00            0.00  ...        0.000        0.232   \n",
       "4597             0.00            0.00  ...        0.000        0.000   \n",
       "4598             0.00            0.00  ...        0.102        0.718   \n",
       "4599             0.00            0.00  ...        0.000        0.057   \n",
       "4600             0.00            0.00  ...        0.000        0.000   \n",
       "\n",
       "      char_freq_(.1  char_freq_!  char_freq_$  char_freq_#  \\\n",
       "0               0.0        0.778        0.000        0.000   \n",
       "1               0.0        0.372        0.180        0.048   \n",
       "2               0.0        0.276        0.184        0.010   \n",
       "3               0.0        0.137        0.000        0.000   \n",
       "4               0.0        0.135        0.000        0.000   \n",
       "...             ...          ...          ...          ...   \n",
       "4596            0.0        0.000        0.000        0.000   \n",
       "4597            0.0        0.353        0.000        0.000   \n",
       "4598            0.0        0.000        0.000        0.000   \n",
       "4599            0.0        0.000        0.000        0.000   \n",
       "4600            0.0        0.125        0.000        0.000   \n",
       "\n",
       "      capital_run_length_average  capital_run_length_total  spam  \\\n",
       "0                          3.756                       278     1   \n",
       "1                          5.114                      1028     1   \n",
       "2                          9.821                      2259     1   \n",
       "3                          3.537                       191     1   \n",
       "4                          3.537                       191     1   \n",
       "...                          ...                       ...   ...   \n",
       "4596                       1.142                        88     0   \n",
       "4597                       1.555                        14     0   \n",
       "4598                       1.404                       118     0   \n",
       "4599                       1.147                        78     0   \n",
       "4600                       1.250                        40     0   \n",
       "\n",
       "      capital_run_length_longest  \n",
       "0                             61  \n",
       "1                            101  \n",
       "2                            485  \n",
       "3                             40  \n",
       "4                             40  \n",
       "...                          ...  \n",
       "4596                           3  \n",
       "4597                           4  \n",
       "4598                           6  \n",
       "4599                           5  \n",
       "4600                           5  \n",
       "\n",
       "[4601 rows x 58 columns]"
      ]
     },
     "execution_count": 19,
     "metadata": {},
     "output_type": "execute_result"
    }
   ],
   "source": [
    "spam_df"
   ]
  }
 ],
 "metadata": {
  "kernelspec": {
   "display_name": "Python 3.10.6 64-bit",
   "language": "python",
   "name": "python3"
  },
  "language_info": {
   "codemirror_mode": {
    "name": "ipython",
    "version": 3
   },
   "file_extension": ".py",
   "mimetype": "text/x-python",
   "name": "python",
   "nbconvert_exporter": "python",
   "pygments_lexer": "ipython3",
   "version": "3.10.6"
  },
  "vscode": {
   "interpreter": {
    "hash": "916dbcbb3f70747c44a77c7bcd40155683ae19c65e1c03b4aa3499c5328201f1"
   }
  }
 },
 "nbformat": 4,
 "nbformat_minor": 5
}
