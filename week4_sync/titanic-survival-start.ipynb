{
 "cells": [
  {
   "cell_type": "markdown",
   "id": "e7294b1b-e191-4f60-a14e-bb2b393f20a6",
   "metadata": {},
   "source": [
    "# Working with Titanic Survival"
   ]
  },
  {
   "cell_type": "markdown",
   "id": "c589a720-fcf0-4d79-a0c7-b60da163cbb6",
   "metadata": {},
   "source": [
    "## Instructions\n",
    "\n",
    "1. Download the file \"titanic.csv\" from the \"Week 4\" module on canvs.\n",
    "2. Make sure that you put the file in the same working directory as this notebook. \n",
    "3. Follow the instructions below."
   ]
  },
  {
   "cell_type": "markdown",
   "id": "bac70c2b-c596-4dcb-bef8-1cc06093444e",
   "metadata": {},
   "source": [
    "## Getting Started: Exploratory Data Analysis\n",
    "\n",
    "In cells below,\n",
    "\n",
    "1. Import pandas as pd\n",
    "2. Import seaborn as sns\n",
    "3. Figure out how to import a DecisionTreeClassifier from sklearn, then import it. "
   ]
  },
  {
   "cell_type": "code",
   "execution_count": 2,
   "id": "ed2e47cd-f3cb-41e3-b00a-263b195841bb",
   "metadata": {},
   "outputs": [],
   "source": [
    "## import statements go here\n",
    "import pandas as pd\n",
    "import seaborn as sns\n",
    "from sklearn.tree import DecisionTreeClassifier"
   ]
  },
  {
   "cell_type": "markdown",
   "id": "ac1a0269-2e82-4ec0-a25e-68efd66b66d3",
   "metadata": {},
   "source": [
    "## Getting an Understanding of the Data\n",
    "In the cell below, use the [read_csv](https://pandas.pydata.org/docs/reference/api/pandas.read_csv.html) command from pandas to read the titanic-survival.csv file as a data frame. Be sure to save the data frame as something! "
   ]
  },
  {
   "cell_type": "code",
   "execution_count": 3,
   "id": "53ccfd3c-a5ca-4108-8c27-a0bf0db0cd32",
   "metadata": {},
   "outputs": [
    {
     "data": {
      "text/plain": [
       "(891, 12)"
      ]
     },
     "execution_count": 3,
     "metadata": {},
     "output_type": "execute_result"
    }
   ],
   "source": [
    "## read the file into a data frame here. \n",
    "titanic = pd.read_csv('titanic-survival.csv')\n",
    "titanic.shape"
   ]
  },
  {
   "cell_type": "markdown",
   "id": "779e6bcd-0736-48f2-98fb-0ed89284f313",
   "metadata": {},
   "source": [
    "Use the [columns](https://pandas.pydata.org/docs/reference/api/pandas.DataFrame.columns.html) attribute to see the names of the columns. "
   ]
  },
  {
   "cell_type": "code",
   "execution_count": 4,
   "id": "c11e1c05-9ee7-4a2c-8eaf-402cad9fe4a4",
   "metadata": {},
   "outputs": [
    {
     "data": {
      "text/plain": [
       "Index(['PassengerId', 'Survived', 'Pclass', 'Name', 'Sex', 'Age', 'SibSp',\n",
       "       'Parch', 'Ticket', 'Fare', 'Cabin', 'Embarked'],\n",
       "      dtype='object')"
      ]
     },
     "execution_count": 4,
     "metadata": {},
     "output_type": "execute_result"
    }
   ],
   "source": [
    "## Python code to see columns goes here.  \n",
    "cols = titanic.columns\n",
    "cols"
   ]
  },
  {
   "cell_type": "markdown",
   "id": "007d3d41-14ce-4b94-aa4a-461a4c653d0c",
   "metadata": {},
   "source": [
    "Now use the [isna()](https://pandas.pydata.org/docs/reference/api/pandas.DataFrame.isna.html#pandas.DataFrame.isna) and [sum()](https://pandas.pydata.org/docs/reference/api/pandas.DataFrame.sum.html) commands to see how many missing values there are for each column. "
   ]
  },
  {
   "cell_type": "code",
   "execution_count": 5,
   "id": "d60b87b9-a919-4fa0-b9ec-9d0008f2f5b9",
   "metadata": {},
   "outputs": [
    {
     "name": "stdout",
     "output_type": "stream",
     "text": [
      "\u001b[4mColumn      | Missing Values\u001b[0m\n",
      "PassengerId | 0\n",
      "Survived    | 0\n",
      "Pclass      | 0\n",
      "Name        | 0\n",
      "Sex         | 0\n",
      "Age         | 177\n",
      "SibSp       | 0\n",
      "Parch       | 0\n",
      "Ticket      | 0\n",
      "Fare        | 0\n",
      "Cabin       | 687\n",
      "Embarked    | 2\n"
     ]
    }
   ],
   "source": [
    "## use the pandas isna and sum commands here \n",
    "print('\\033[4m%-11s | %s\\033[0m' % ('Column', 'Missing Values'))\n",
    "for c in cols:\n",
    "    s = sum(titanic[c].isna())\n",
    "    print('%-11s | %d' % (c, s))"
   ]
  },
  {
   "cell_type": "markdown",
   "id": "0e95ac69-e07f-476d-a512-c54b8012dd6e",
   "metadata": {},
   "source": [
    "Now, do the following preprocessing steps: \n",
    "1. Choose one column to drop based on the missing values, using the [dropna()](https://pandas.pydata.org/docs/reference/api/pandas.DataFrame.dropna.html) command. \n",
    "2. Choose another column to replace missing values in a way you choose (using the [fillna()](https://pandas.pydata.org/docs/reference/api/pandas.DataFrame.fillna.html) command.  "
   ]
  },
  {
   "cell_type": "code",
   "execution_count": 6,
   "id": "b19d2af8",
   "metadata": {},
   "outputs": [],
   "source": [
    "# Will drop Cabin\n",
    "titanic.dropna(axis = 'columns', thresh = 600, inplace = True)\n",
    "\n",
    "# Drops the two rows without Embarked\n",
    "titanic.dropna(axis = 0, inplace = True)\n",
    "\n",
    "# Makes age -1 if it is missing\n",
    "titanic.fillna(value = {'Age': -1}, inplace = True)"
   ]
  },
  {
   "cell_type": "code",
   "execution_count": 37,
   "id": "7b1593de",
   "metadata": {},
   "outputs": [
    {
     "name": "stdout",
     "output_type": "stream",
     "text": [
      "288 survived. 40.45%\n"
     ]
    }
   ],
   "source": [
    "survived_tot = titanic['Survived'].sum()\n",
    "survived_per = titanic['Survived'].mean()  # percentage survived\n",
    "\n",
    "print(survived_tot, 'survived.', '%.2f' % (survived_per * 100) ,'\\b%')"
   ]
  },
  {
   "cell_type": "code",
   "execution_count": 59,
   "id": "992293f4",
   "metadata": {},
   "outputs": [
    {
     "name": "stdout",
     "output_type": "stream",
     "text": [
      "Percentage Surived by Class:\n",
      "P1: 65.22%\n",
      "P2: 47.98%\n",
      "P3: 23.94%\n"
     ]
    }
   ],
   "source": [
    "# Finding how many and what percentage of Pclass 3 survived\n",
    "p3_sur = titanic[titanic['Pclass'] == 3]['Survived'].sum()\n",
    "p3_per = titanic[titanic['Pclass'] == 3]['Survived'].mean()\n",
    "\n",
    "# Finding how many and what percentage of Pclass 2 survived\n",
    "p2_sur = titanic[titanic['Pclass'] == 2]['Survived'].sum()\n",
    "p2_per = titanic[titanic['Pclass'] == 2]['Survived'].mean()\n",
    "\n",
    "# Finding how many and what percentage of Pclass 1 survived\n",
    "p1_sur = titanic[titanic['Pclass'] == 1]['Survived'].sum()\n",
    "p1_per = titanic[titanic['Pclass'] == 1]['Survived'].mean()\n",
    "\n",
    "print('Percentage Surived by Class:')\n",
    "print('P1:', '%.2f' % (p1_per * 100), '\\b%\\nP2:', '%.2f' % (p2_per * 100), '\\b%\\nP3:', '%.2f' % (p3_per * 100), '\\b%')"
   ]
  },
  {
   "cell_type": "code",
   "execution_count": 61,
   "id": "98a56189",
   "metadata": {},
   "outputs": [
    {
     "data": {
      "text/plain": [
       "Pclass\n",
       "1    0.652174\n",
       "2    0.479769\n",
       "3    0.239437\n",
       "Name: Survived, dtype: float64"
      ]
     },
     "execution_count": 61,
     "metadata": {},
     "output_type": "execute_result"
    }
   ],
   "source": [
    "# Shows survival percent by \n",
    "titanic.groupby(['Pclass'])['Survived'].mean()"
   ]
  },
  {
   "cell_type": "code",
   "execution_count": 66,
   "id": "64c97dbb",
   "metadata": {},
   "outputs": [
    {
     "data": {
      "text/plain": [
       "<AxesSubplot:xlabel='Age', ylabel='Survived'>"
      ]
     },
     "execution_count": 66,
     "metadata": {},
     "output_type": "execute_result"
    },
    {
     "data": {
      "image/png": "[encoded data removed]",
      "text/plain": [
       "<Figure size 640x480 with 1 Axes>"
      ]
     },
     "metadata": {},
     "output_type": "display_data"
    }
   ],
   "source": [
    "sns.barplot(data = titanic, x = 'Sex', y = 'Survived')"
   ]
  },
  {
   "cell_type": "code",
   "execution_count": 68,
   "metadata": {},
   "outputs": [
    {
     "data": {
      "text/plain": [
       "<AxesSubplot:xlabel='Pclass', ylabel='Survived'>"
      ]
     },
     "execution_count": 68,
     "metadata": {},
     "output_type": "execute_result"
    },
    {
     "data": {
      "image/png": "[encoded data removed]",
      "text/plain": [
       "<Figure size 640x480 with 1 Axes>"
      ]
     },
     "metadata": {},
     "output_type": "display_data"
    }
   ],
   "source": [
    "sns.barplot(data = titanic, x = 'Pclass', y = 'Survived')"
   ]
  },
  {
   "cell_type": "markdown",
   "id": "c6574893-2225-4f4e-87a7-0f4292bc1069",
   "metadata": {},
   "source": [
    "## Getting a Sense of Survival Based on Different Attributes "
   ]
  },
  {
   "cell_type": "markdown",
   "id": "0bb22e2f-6062-43a2-92aa-5f42bb7c51dd",
   "metadata": {},
   "source": [
    "Dr. Penland will show some things here using numerical and graphical methods to understand the data set. "
   ]
  },
  {
   "cell_type": "markdown",
   "id": "149b542c-21ee-477c-8cf8-62040876f2fd",
   "metadata": {},
   "source": [
    "## Building a DecisionTreeClassifier to predict survival. "
   ]
  },
  {
   "cell_type": "code",
   "execution_count": null,
   "id": "270a519f-6c6c-4d05-b964-299c1c6c2be3",
   "metadata": {},
   "outputs": [],
   "source": []
  }
 ],
 "metadata": {
  "kernelspec": {
   "display_name": "Python 3.10.4 64-bit",
   "language": "python",
   "name": "python3"
  },
  "language_info": {
   "codemirror_mode": {
    "name": "ipython",
    "version": 3
   },
   "file_extension": ".py",
   "mimetype": "text/x-python",
   "name": "python",
   "nbconvert_exporter": "python",
   "pygments_lexer": "ipython3",
   "version": "3.10.4"
  },
  "vscode": {
   "interpreter": {
    "hash": "916dbcbb3f70747c44a77c7bcd40155683ae19c65e1c03b4aa3499c5328201f1"
   }
  }
 },
 "nbformat": 4,
 "nbformat_minor": 5
}
